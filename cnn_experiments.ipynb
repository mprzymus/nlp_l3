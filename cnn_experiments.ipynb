{
 "cells": [
  {
   "cell_type": "code",
   "execution_count": 1,
   "metadata": {},
   "outputs": [],
   "source": [
    "import time\n",
    "from statistics import mean, stdev\n",
    "\n",
    "import fasttext\n",
    "import torch\n",
    "from torch.utils.data import DataLoader\n",
    "\n",
    "from config import SG_CORPUS, SG_FULL, CHECKPOINTS_DIR, PROBLEM_TEST\n",
    "from data import HatefulTweets, WordDataset\n",
    "from experiment import run_repeated_cnn, test_inference_time, calculate_memory_usage\n",
    "from nn import CNNModel"
   ]
  },
  {
   "cell_type": "code",
   "execution_count": 2,
   "metadata": {},
   "outputs": [
    {
     "name": "stderr",
     "output_type": "stream",
     "text": [
      "Global seed set to 1\n",
      "Global seed set to 2\n",
      "Global seed set to 3\n",
      "Global seed set to 4\n",
      "Global seed set to 5\n",
      "Global seed set to 6\n",
      "Global seed set to 7\n",
      "Global seed set to 8\n",
      "Global seed set to 9\n",
      "Global seed set to 10\n"
     ]
    },
    {
     "data": {
      "text/plain": [
       "{'test/loss': '0.3227 ± 0.0132',\n",
       " 'test/f1': '0.5141 ± 0.0405',\n",
       " 'test/acc': '0.8961 ± 0.0068',\n",
       " 'test/precision': '0.6896 ± 0.0468',\n",
       " 'test/recall': '0.4119 ± 0.0470',\n",
       " 'train/loss': '0.1018 ± 0.0305',\n",
       " 'train/f1': '0.9644 ± 0.0163',\n",
       " 'train/acc': '0.9937 ± 0.0029',\n",
       " 'train/precision': '0.9378 ± 0.0287',\n",
       " 'train/recall': '0.9928 ± 0.0043',\n",
       " 'train_time': '86.6700 ± 9.5976'}"
      ]
     },
     "execution_count": 2,
     "metadata": {},
     "output_type": "execute_result"
    }
   ],
   "source": [
    "run_repeated_cnn(SG_CORPUS, name=\"cnn_corpus\")"
   ]
  },
  {
   "cell_type": "code",
   "execution_count": 3,
   "metadata": {},
   "outputs": [
    {
     "name": "stderr",
     "output_type": "stream",
     "text": [
      "Global seed set to 1\n",
      "Global seed set to 2\n",
      "Global seed set to 3\n",
      "Global seed set to 4\n",
      "Global seed set to 5\n",
      "Global seed set to 6\n",
      "Global seed set to 7\n",
      "Global seed set to 8\n",
      "Global seed set to 9\n",
      "Global seed set to 10\n"
     ]
    },
    {
     "data": {
      "text/plain": [
       "{'test/loss': '0.3381 ± 0.0126',\n",
       " 'test/f1': '0.4818 ± 0.0283',\n",
       " 'test/acc': '0.8859 ± 0.0056',\n",
       " 'test/precision': '0.6157 ± 0.0349',\n",
       " 'test/recall': '0.3963 ± 0.0278',\n",
       " 'train/loss': '0.0952 ± 0.0226',\n",
       " 'train/f1': '0.9695 ± 0.0100',\n",
       " 'train/acc': '0.9947 ± 0.0018',\n",
       " 'train/precision': '0.9463 ± 0.0189',\n",
       " 'train/recall': '0.9940 ± 0.0016',\n",
       " 'train_time': '86.6509 ± 10.9041'}"
      ]
     },
     "execution_count": 3,
     "metadata": {},
     "output_type": "execute_result"
    }
   ],
   "source": [
    "run_repeated_cnn(SG_FULL, name=\"cnn_full\")"
   ]
  },
  {
   "cell_type": "code",
   "execution_count": 2,
   "metadata": {},
   "outputs": [
    {
     "name": "stderr",
     "output_type": "stream",
     "text": [
      "Warning : `load_model` does not return WordVectorModel or SupervisedModel any more, but a `FastText` object which is very similar.\n"
     ]
    }
   ],
   "source": [
    "embeddings_model = fasttext.load_model(str(SG_CORPUS))\n",
    "\n",
    "dataset = WordDataset(PROBLEM_TEST, embeddings_model.get_word_vector, 32)\n",
    "loader = DataLoader(\n",
    "    dataset,\n",
    "    batch_size=128,\n",
    "    pin_memory=True,\n",
    "    shuffle=False,\n",
    "    num_workers=0,\n",
    "    drop_last=True,\n",
    ")\n",
    "\n",
    "checkpoint_file = CHECKPOINTS_DIR / \"cnn_corpus_1.ckpt\"\n",
    "model = CNNModel.load_from_checkpoint(\n",
    "    checkpoint_file,\n",
    "    conv_kernels=[3, 4, 5],\n",
    "    conv_filter=100,\n",
    "    head_dim=300,\n",
    "    sentence_length=32,\n",
    "    learning_rate=1e-5,\n",
    ").cuda()"
   ]
  },
  {
   "cell_type": "code",
   "execution_count": 3,
   "metadata": {},
   "outputs": [
    {
     "data": {
      "text/plain": [
       "'0.0014 ± 0.0192'"
      ]
     },
     "execution_count": 3,
     "metadata": {},
     "output_type": "execute_result"
    }
   ],
   "source": [
    "test_inference_time(model, loader)"
   ]
  },
  {
   "cell_type": "code",
   "execution_count": 4,
   "metadata": {},
   "outputs": [
    {
     "data": {
      "text/plain": [
       "'1.725 MB'"
      ]
     },
     "execution_count": 4,
     "metadata": {},
     "output_type": "execute_result"
    }
   ],
   "source": [
    "calculate_memory_usage(model)"
   ]
  }
 ],
 "metadata": {
  "kernelspec": {
   "display_name": "Python 3",
   "language": "python",
   "name": "python3"
  },
  "language_info": {
   "codemirror_mode": {
    "name": "ipython",
    "version": 3
   },
   "file_extension": ".py",
   "mimetype": "text/x-python",
   "name": "python",
   "nbconvert_exporter": "python",
   "pygments_lexer": "ipython3",
   "version": "3.10.9"
  },
  "orig_nbformat": 4,
  "vscode": {
   "interpreter": {
    "hash": "e7370f93d1d0cde622a1f8e1c04877d8463912d04d973331ad4851f04de6915a"
   }
  }
 },
 "nbformat": 4,
 "nbformat_minor": 2
}
