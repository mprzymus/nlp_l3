{
 "cells": [
  {
   "cell_type": "code",
   "execution_count": 1,
   "metadata": {},
   "outputs": [
    {
     "name": "stderr",
     "output_type": "stream",
     "text": [
      "Some weights of the model checkpoint at allegro/herbert-base-cased were not used when initializing BertModel: ['cls.sso.sso_relationship.bias', 'cls.predictions.transform.dense.weight', 'cls.sso.sso_relationship.weight', 'cls.predictions.transform.LayerNorm.weight', 'cls.predictions.transform.dense.bias', 'cls.predictions.decoder.bias', 'cls.predictions.bias', 'cls.predictions.transform.LayerNorm.bias', 'cls.predictions.decoder.weight']\n",
      "- This IS expected if you are initializing BertModel from the checkpoint of a model trained on another task or with another architecture (e.g. initializing a BertForSequenceClassification model from a BertForPreTraining model).\n",
      "- This IS NOT expected if you are initializing BertModel from the checkpoint of a model that you expect to be exactly identical (initializing a BertForSequenceClassification model from a BertForSequenceClassification model).\n"
     ]
    }
   ],
   "source": [
    "from experiment import run_repeated_lstm, run_repeated_rnn\n",
    "from config import SG_CORPUS, SG_FULL"
   ]
  },
  {
   "cell_type": "code",
   "execution_count": 2,
   "metadata": {},
   "outputs": [
    {
     "name": "stderr",
     "output_type": "stream",
     "text": [
      "Global seed set to 1\n",
      "Global seed set to 2\n",
      "Global seed set to 3\n",
      "Global seed set to 4\n",
      "Global seed set to 5\n",
      "Global seed set to 6\n",
      "Global seed set to 7\n",
      "Global seed set to 8\n",
      "Global seed set to 9\n",
      "Global seed set to 10\n"
     ]
    },
    {
     "data": {
      "text/plain": [
       "{'test/loss': '0.2530 ± 0.0130',\n",
       " 'test/f1': '0.3515 ± 0.1872',\n",
       " 'test/acc': '0.8895 ± 0.0127',\n",
       " 'test/precision': '0.6236 ± 0.3296',\n",
       " 'test/recall': '0.2455 ± 0.1323',\n",
       " 'train/loss': '0.1859 ± 0.0206',\n",
       " 'train/f1': '0.2755 ± 0.1799',\n",
       " 'train/acc': '0.9215 ± 0.0042',\n",
       " 'train/precision': '0.4979 ± 0.2637',\n",
       " 'train/recall': '0.2019 ± 0.1420'}"
      ]
     },
     "execution_count": 2,
     "metadata": {},
     "output_type": "execute_result"
    }
   ],
   "source": [
    "run_repeated_lstm(SG_CORPUS, 'lstm_150_1_corp', feature_size=300, hidden_size=150, num_layers=1)"
   ]
  },
  {
   "cell_type": "code",
   "execution_count": 3,
   "metadata": {},
   "outputs": [
    {
     "name": "stderr",
     "output_type": "stream",
     "text": [
      "Global seed set to 1\n",
      "Global seed set to 2\n",
      "Global seed set to 3\n",
      "Global seed set to 4\n",
      "Global seed set to 5\n",
      "Global seed set to 6\n",
      "Global seed set to 7\n",
      "Global seed set to 8\n",
      "Global seed set to 9\n",
      "Global seed set to 10\n"
     ]
    },
    {
     "data": {
      "text/plain": [
       "{'test/loss': '0.2458 ± 0.0033',\n",
       " 'test/f1': '0.4916 ± 0.0372',\n",
       " 'test/acc': '0.8975 ± 0.0036',\n",
       " 'test/precision': '0.7358 ± 0.0424',\n",
       " 'test/recall': '0.3724 ± 0.0493',\n",
       " 'train/loss': '0.1714 ± 0.0085',\n",
       " 'train/f1': '0.4851 ± 0.0464',\n",
       " 'train/acc': '0.9280 ± 0.0037',\n",
       " 'train/precision': '0.6148 ± 0.0230',\n",
       " 'train/recall': '0.4025 ± 0.0577'}"
      ]
     },
     "execution_count": 3,
     "metadata": {},
     "output_type": "execute_result"
    }
   ],
   "source": [
    "run_repeated_lstm(SG_CORPUS, 'lstm_150_5_corp', feature_size=300, hidden_size=150, num_layers=5)"
   ]
  },
  {
   "cell_type": "code",
   "execution_count": 4,
   "metadata": {},
   "outputs": [
    {
     "name": "stderr",
     "output_type": "stream",
     "text": [
      "Global seed set to 1\n",
      "Global seed set to 2\n",
      "Global seed set to 3\n",
      "Global seed set to 4\n",
      "Global seed set to 5\n",
      "Global seed set to 6\n",
      "Global seed set to 7\n",
      "Global seed set to 8\n",
      "Global seed set to 9\n",
      "Global seed set to 10\n"
     ]
    },
    {
     "data": {
      "text/plain": [
       "{'test/loss': '0.2479 ± 0.0037',\n",
       " 'test/f1': '0.4332 ± 0.0473',\n",
       " 'test/acc': '0.8957 ± 0.0034',\n",
       " 'test/precision': '0.8021 ± 0.0511',\n",
       " 'test/recall': '0.3007 ± 0.0535',\n",
       " 'train/loss': '0.1793 ± 0.0094',\n",
       " 'train/f1': '0.4202 ± 0.0668',\n",
       " 'train/acc': '0.9252 ± 0.0033',\n",
       " 'train/precision': '0.6086 ± 0.0271',\n",
       " 'train/recall': '0.3241 ± 0.0643'}"
      ]
     },
     "execution_count": 4,
     "metadata": {},
     "output_type": "execute_result"
    }
   ],
   "source": [
    "run_repeated_lstm(SG_CORPUS, 'lstm_300_5', feature_size=300, hidden_size=300, num_layers=5)"
   ]
  },
  {
   "cell_type": "code",
   "execution_count": 5,
   "metadata": {},
   "outputs": [
    {
     "name": "stderr",
     "output_type": "stream",
     "text": [
      "Global seed set to 1\n",
      "Global seed set to 2\n",
      "Global seed set to 3\n",
      "Global seed set to 4\n",
      "Global seed set to 5\n",
      "Global seed set to 6\n",
      "Global seed set to 7\n",
      "Global seed set to 8\n",
      "Global seed set to 9\n",
      "Global seed set to 10\n"
     ]
    },
    {
     "data": {
      "text/plain": [
       "{'test/loss': '0.2424 ± 0.0021',\n",
       " 'test/f1': '0.4590 ± 0.0260',\n",
       " 'test/acc': '0.8967 ± 0.0025',\n",
       " 'test/precision': '0.7742 ± 0.0488',\n",
       " 'test/recall': '0.3284 ± 0.0337',\n",
       " 'train/loss': '0.1853 ± 0.0091',\n",
       " 'train/f1': '0.3977 ± 0.0602',\n",
       " 'train/acc': '0.9243 ± 0.0030',\n",
       " 'train/precision': '0.6070 ± 0.0207',\n",
       " 'train/recall': '0.2986 ± 0.0619'}"
      ]
     },
     "execution_count": 5,
     "metadata": {},
     "output_type": "execute_result"
    }
   ],
   "source": [
    "run_repeated_lstm(SG_CORPUS, 'lstm_600_2_corp', feature_size=300, hidden_size=600, num_layers=2)"
   ]
  },
  {
   "cell_type": "code",
   "execution_count": 6,
   "metadata": {},
   "outputs": [
    {
     "name": "stderr",
     "output_type": "stream",
     "text": [
      "Global seed set to 1\n",
      "Global seed set to 2\n",
      "Global seed set to 3\n",
      "Global seed set to 4\n",
      "Global seed set to 5\n",
      "Global seed set to 6\n",
      "Global seed set to 7\n",
      "Global seed set to 8\n",
      "Global seed set to 9\n",
      "Global seed set to 10\n"
     ]
    },
    {
     "data": {
      "text/plain": [
       "{'test/loss': '0.2532 ± 0.0055',\n",
       " 'test/f1': '0.4494 ± 0.0431',\n",
       " 'test/acc': '0.8938 ± 0.0039',\n",
       " 'test/precision': '0.7490 ± 0.0804',\n",
       " 'test/recall': '0.3269 ± 0.0530',\n",
       " 'train/loss': '0.1823 ± 0.0136',\n",
       " 'train/f1': '0.4229 ± 0.0975',\n",
       " 'train/acc': '0.9246 ± 0.0036',\n",
       " 'train/precision': '0.5982 ± 0.0190',\n",
       " 'train/recall': '0.3377 ± 0.1003'}"
      ]
     },
     "execution_count": 6,
     "metadata": {},
     "output_type": "execute_result"
    }
   ],
   "source": [
    "run_repeated_lstm(SG_CORPUS, 'lstm_300_10_corp', feature_size=300, hidden_size=300, num_layers=10)"
   ]
  },
  {
   "cell_type": "code",
   "execution_count": 7,
   "metadata": {},
   "outputs": [
    {
     "name": "stderr",
     "output_type": "stream",
     "text": [
      "Global seed set to 1\n",
      "Global seed set to 2\n"
     ]
    },
    {
     "data": {
      "text/plain": [
       "{'test/loss': '0.4010 ± 0.0007',\n",
       " 'test/f1': '0.0000 ± 0.0000',\n",
       " 'test/acc': '0.8660 ± 0.0000',\n",
       " 'test/precision': '0.0000 ± 0.0000',\n",
       " 'test/recall': '0.0000 ± 0.0000',\n",
       " 'train/loss': '0.2907 ± 0.0000',\n",
       " 'train/f1': '0.0000 ± 0.0000',\n",
       " 'train/acc': '0.9151 ± 0.0000',\n",
       " 'train/precision': '0.0000 ± 0.0000',\n",
       " 'train/recall': '0.0000 ± 0.0000'}"
      ]
     },
     "execution_count": 7,
     "metadata": {},
     "output_type": "execute_result"
    }
   ],
   "source": [
    "run_repeated_lstm(SG_CORPUS, 'lstm_100_30_corp', seed_start=1, seed_end=3, feature_size=300, hidden_size=100, num_layers=30)"
   ]
  },
  {
   "cell_type": "code",
   "execution_count": 8,
   "metadata": {},
   "outputs": [
    {
     "name": "stderr",
     "output_type": "stream",
     "text": [
      "Global seed set to 1\n",
      "Global seed set to 2\n",
      "Global seed set to 3\n",
      "Global seed set to 4\n",
      "Global seed set to 5\n",
      "Global seed set to 6\n",
      "Global seed set to 7\n",
      "Global seed set to 8\n",
      "Global seed set to 9\n",
      "Global seed set to 10\n"
     ]
    },
    {
     "data": {
      "text/plain": [
       "{'test/loss': '0.2731 ± 0.0099',\n",
       " 'test/f1': '0.0594 ± 0.1378',\n",
       " 'test/acc': '0.8688 ± 0.0069',\n",
       " 'test/precision': '0.2103 ± 0.3411',\n",
       " 'test/recall': '0.0410 ± 0.1025',\n",
       " 'train/loss': '0.1938 ± 0.0081',\n",
       " 'train/f1': '0.0305 ± 0.0949',\n",
       " 'train/acc': '0.9155 ± 0.0015',\n",
       " 'train/precision': '0.0910 ± 0.2002',\n",
       " 'train/recall': '0.0206 ± 0.0642'}"
      ]
     },
     "execution_count": 8,
     "metadata": {},
     "output_type": "execute_result"
    }
   ],
   "source": [
    "run_repeated_lstm(SG_FULL, 'lstm_150_1_full', feature_size=300, hidden_size=150, num_layers=1)\n"
   ]
  },
  {
   "cell_type": "code",
   "execution_count": 9,
   "metadata": {},
   "outputs": [
    {
     "name": "stderr",
     "output_type": "stream",
     "text": [
      "Global seed set to 1\n",
      "Global seed set to 2\n",
      "Global seed set to 3\n",
      "Global seed set to 4\n",
      "Global seed set to 5\n",
      "Global seed set to 6\n",
      "Global seed set to 7\n",
      "Global seed set to 8\n",
      "Global seed set to 9\n",
      "Global seed set to 10\n"
     ]
    },
    {
     "data": {
      "text/plain": [
       "{'test/loss': '0.2582 ± 0.0033',\n",
       " 'test/f1': '0.3092 ± 0.1090',\n",
       " 'test/acc': '0.8809 ± 0.0061',\n",
       " 'test/precision': '0.6921 ± 0.0438',\n",
       " 'test/recall': '0.2104 ± 0.1034',\n",
       " 'train/loss': '0.1894 ± 0.0082',\n",
       " 'train/f1': '0.2336 ± 0.1189',\n",
       " 'train/acc': '0.9190 ± 0.0021',\n",
       " 'train/precision': '0.5970 ± 0.0268',\n",
       " 'train/recall': '0.1575 ± 0.0976'}"
      ]
     },
     "execution_count": 9,
     "metadata": {},
     "output_type": "execute_result"
    }
   ],
   "source": [
    "run_repeated_lstm(SG_FULL, 'lstm_150_5_full', feature_size=300, hidden_size=150, num_layers=5)\n"
   ]
  },
  {
   "cell_type": "code",
   "execution_count": 4,
   "metadata": {},
   "outputs": [
    {
     "name": "stderr",
     "output_type": "stream",
     "text": [
      "Global seed set to 1\n",
      "Global seed set to 2\n",
      "Global seed set to 3\n",
      "Global seed set to 4\n",
      "Global seed set to 5\n",
      "Global seed set to 6\n",
      "Global seed set to 7\n",
      "Global seed set to 8\n",
      "Global seed set to 9\n",
      "Global seed set to 10\n"
     ]
    },
    {
     "data": {
      "text/plain": [
       "{'test/loss': '0.2613 ± 0.0020',\n",
       " 'test/f1': '0.3205 ± 0.0951',\n",
       " 'test/acc': '0.8821 ± 0.0055',\n",
       " 'test/precision': '0.7031 ± 0.0365',\n",
       " 'test/recall': '0.2157 ± 0.0839',\n",
       " 'train/loss': '0.1904 ± 0.0127',\n",
       " 'train/f1': '0.2618 ± 0.1451',\n",
       " 'train/acc': '0.9202 ± 0.0038',\n",
       " 'train/precision': '0.6022 ± 0.0391',\n",
       " 'train/recall': '0.1838 ± 0.1162'}"
      ]
     },
     "execution_count": 4,
     "metadata": {},
     "output_type": "execute_result"
    }
   ],
   "source": [
    "run_repeated_lstm(SG_FULL, 'lstm_300_5_full', feature_size=300, hidden_size=300, num_layers=5)\n"
   ]
  },
  {
   "cell_type": "code",
   "execution_count": 5,
   "metadata": {},
   "outputs": [
    {
     "name": "stderr",
     "output_type": "stream",
     "text": [
      "Global seed set to 1\n",
      "Global seed set to 2\n",
      "Global seed set to 3\n",
      "Global seed set to 4\n",
      "Global seed set to 5\n",
      "Global seed set to 6\n",
      "Global seed set to 7\n",
      "Global seed set to 8\n",
      "Global seed set to 9\n",
      "Global seed set to 10\n"
     ]
    },
    {
     "data": {
      "text/plain": [
       "{'test/loss': '0.2594 ± 0.0015',\n",
       " 'test/f1': '0.3535 ± 0.0551',\n",
       " 'test/acc': '0.8851 ± 0.0026',\n",
       " 'test/precision': '0.7228 ± 0.0419',\n",
       " 'test/recall': '0.2381 ± 0.0556',\n",
       " 'train/loss': '0.2011 ± 0.0090',\n",
       " 'train/f1': '0.2556 ± 0.0599',\n",
       " 'train/acc': '0.9177 ± 0.0023',\n",
       " 'train/precision': '0.5406 ± 0.0408',\n",
       " 'train/recall': '0.1690 ± 0.0467'}"
      ]
     },
     "execution_count": 5,
     "metadata": {},
     "output_type": "execute_result"
    }
   ],
   "source": [
    "run_repeated_lstm(SG_FULL, 'lstm_600_2_full', feature_size=300, hidden_size=600, num_layers=2)\n"
   ]
  },
  {
   "cell_type": "code",
   "execution_count": 6,
   "metadata": {},
   "outputs": [
    {
     "name": "stderr",
     "output_type": "stream",
     "text": [
      "Global seed set to 1\n",
      "Global seed set to 2\n",
      "Global seed set to 3\n",
      "Global seed set to 4\n",
      "Global seed set to 5\n",
      "Global seed set to 6\n",
      "Global seed set to 7\n",
      "Global seed set to 8\n",
      "Global seed set to 9\n",
      "Global seed set to 10\n"
     ]
    },
    {
     "data": {
      "text/plain": [
       "{'test/loss': '0.2675 ± 0.0094',\n",
       " 'test/f1': '0.3243 ± 0.1049',\n",
       " 'test/acc': '0.8805 ± 0.0042',\n",
       " 'test/precision': '0.7023 ± 0.0938',\n",
       " 'test/recall': '0.2269 ± 0.1018',\n",
       " 'train/loss': '0.1933 ± 0.0091',\n",
       " 'train/f1': '0.2373 ± 0.1268',\n",
       " 'train/acc': '0.9191 ± 0.0023',\n",
       " 'train/precision': '0.5945 ± 0.0486',\n",
       " 'train/recall': '0.1617 ± 0.1015'}"
      ]
     },
     "execution_count": 6,
     "metadata": {},
     "output_type": "execute_result"
    }
   ],
   "source": [
    "run_repeated_lstm(SG_FULL, 'lstm_300_10_full', feature_size=300, hidden_size=300, num_layers=10)"
   ]
  },
  {
   "cell_type": "code",
   "execution_count": 2,
   "metadata": {},
   "outputs": [
    {
     "name": "stderr",
     "output_type": "stream",
     "text": [
      "Global seed set to 1\n",
      "Global seed set to 2\n",
      "Global seed set to 3\n",
      "Global seed set to 4\n",
      "Global seed set to 5\n",
      "Global seed set to 6\n",
      "Global seed set to 7\n",
      "Global seed set to 8\n",
      "Global seed set to 9\n",
      "Global seed set to 10\n"
     ]
    },
    {
     "data": {
      "text/plain": [
       "{'test/loss': '0.4022 ± 0.0011',\n",
       " 'test/f1': '0.0000 ± 0.0000',\n",
       " 'test/acc': '0.8660 ± 0.0000',\n",
       " 'test/precision': '0.0000 ± 0.0000',\n",
       " 'test/recall': '0.0000 ± 0.0000',\n",
       " 'train/loss': '0.2908 ± 0.0002',\n",
       " 'train/f1': '0.0000 ± 0.0000',\n",
       " 'train/acc': '0.9151 ± 0.0000',\n",
       " 'train/precision': '0.0000 ± 0.0000',\n",
       " 'train/recall': '0.0000 ± 0.0000'}"
      ]
     },
     "metadata": {},
     "output_type": "display_data"
    }
   ],
   "source": [
    "display(run_repeated_rnn(SG_CORPUS, 'rnn_150_1', feature_size=300, hidden_size=150, num_layers=1))\n"
   ]
  },
  {
   "cell_type": "code",
   "execution_count": 3,
   "metadata": {},
   "outputs": [
    {
     "name": "stderr",
     "output_type": "stream",
     "text": [
      "Global seed set to 1\n",
      "Global seed set to 2\n",
      "Global seed set to 3\n",
      "Global seed set to 4\n",
      "Global seed set to 5\n",
      "Global seed set to 6\n",
      "Global seed set to 7\n",
      "Global seed set to 8\n",
      "Global seed set to 9\n",
      "Global seed set to 10\n"
     ]
    },
    {
     "data": {
      "text/plain": [
       "{'test/loss': '0.2474 ± 0.0038',\n",
       " 'test/f1': '0.4581 ± 0.0762',\n",
       " 'test/acc': '0.8941 ± 0.0031',\n",
       " 'test/precision': '0.7457 ± 0.0924',\n",
       " 'test/recall': '0.3448 ± 0.0945',\n",
       " 'train/loss': '0.2068 ± 0.0240',\n",
       " 'train/f1': '0.3267 ± 0.0776',\n",
       " 'train/acc': '0.9185 ± 0.0042',\n",
       " 'train/precision': '0.5387 ± 0.0520',\n",
       " 'train/recall': '0.2380 ± 0.0713'}"
      ]
     },
     "metadata": {},
     "output_type": "display_data"
    }
   ],
   "source": [
    "display(run_repeated_rnn(SG_CORPUS, 'rnn_150_2', feature_size=300, hidden_size=150, num_layers=2))\n"
   ]
  },
  {
   "cell_type": "code",
   "execution_count": 4,
   "metadata": {},
   "outputs": [
    {
     "name": "stderr",
     "output_type": "stream",
     "text": [
      "Global seed set to 1\n",
      "Global seed set to 2\n",
      "Global seed set to 3\n",
      "Global seed set to 4\n",
      "Global seed set to 5\n",
      "Global seed set to 6\n",
      "Global seed set to 7\n",
      "Global seed set to 8\n",
      "Global seed set to 9\n",
      "Global seed set to 10\n"
     ]
    },
    {
     "data": {
      "text/plain": [
       "{'test/loss': '0.2630 ± 0.0475',\n",
       " 'test/f1': '0.4123 ± 0.1501',\n",
       " 'test/acc': '0.8910 ± 0.0091',\n",
       " 'test/precision': '0.6556 ± 0.2342',\n",
       " 'test/recall': '0.3045 ± 0.1181',\n",
       " 'train/loss': '0.2192 ± 0.0361',\n",
       " 'train/f1': '0.2592 ± 0.1447',\n",
       " 'train/acc': '0.9175 ± 0.0039',\n",
       " 'train/precision': '0.4659 ± 0.1753',\n",
       " 'train/recall': '0.1871 ± 0.1175'}"
      ]
     },
     "metadata": {},
     "output_type": "display_data"
    }
   ],
   "source": [
    "display(run_repeated_rnn(SG_CORPUS, 'rnn_150_3', feature_size=300, hidden_size=150, num_layers=3))\n"
   ]
  },
  {
   "cell_type": "code",
   "execution_count": 5,
   "metadata": {},
   "outputs": [
    {
     "name": "stderr",
     "output_type": "stream",
     "text": [
      "Global seed set to 1\n",
      "Global seed set to 2\n",
      "Global seed set to 3\n",
      "Global seed set to 4\n",
      "Global seed set to 5\n",
      "Global seed set to 6\n",
      "Global seed set to 7\n",
      "Global seed set to 8\n",
      "Global seed set to 9\n",
      "Global seed set to 10\n"
     ]
    },
    {
     "data": {
      "text/plain": [
       "{'test/loss': '0.2464 ± 0.0071',\n",
       " 'test/f1': '0.4805 ± 0.0782',\n",
       " 'test/acc': '0.8910 ± 0.0051',\n",
       " 'test/precision': '0.6688 ± 0.0432',\n",
       " 'test/recall': '0.3881 ± 0.1035',\n",
       " 'train/loss': '0.2163 ± 0.0354',\n",
       " 'train/f1': '0.2726 ± 0.1377',\n",
       " 'train/acc': '0.9180 ± 0.0030',\n",
       " 'train/precision': '0.4777 ± 0.1797',\n",
       " 'train/recall': '0.1966 ± 0.1077'}"
      ]
     },
     "metadata": {},
     "output_type": "display_data"
    }
   ],
   "source": [
    "display(run_repeated_rnn(SG_CORPUS, 'rnn_300_5', feature_size=300, hidden_size=300, num_layers=2))\n"
   ]
  },
  {
   "cell_type": "code",
   "execution_count": 6,
   "metadata": {},
   "outputs": [
    {
     "name": "stderr",
     "output_type": "stream",
     "text": [
      "Global seed set to 1\n",
      "Global seed set to 2\n",
      "Global seed set to 3\n",
      "Global seed set to 4\n",
      "Global seed set to 5\n",
      "Global seed set to 6\n",
      "Global seed set to 7\n",
      "Global seed set to 8\n",
      "Global seed set to 9\n",
      "Global seed set to 10\n"
     ]
    },
    {
     "data": {
      "text/plain": [
       "{'test/loss': '0.2554 ± 0.0125',\n",
       " 'test/f1': '0.4796 ± 0.0437',\n",
       " 'test/acc': '0.8909 ± 0.0051',\n",
       " 'test/precision': '0.6735 ± 0.0628',\n",
       " 'test/recall': '0.3799 ± 0.0683',\n",
       " 'train/loss': '0.2116 ± 0.0350',\n",
       " 'train/f1': '0.3004 ± 0.1356',\n",
       " 'train/acc': '0.9177 ± 0.0035',\n",
       " 'train/precision': '0.4769 ± 0.1722',\n",
       " 'train/recall': '0.2249 ± 0.1112'}"
      ]
     },
     "metadata": {},
     "output_type": "display_data"
    }
   ],
   "source": [
    "display(run_repeated_rnn(SG_CORPUS, 'rnn_600_2', feature_size=300, hidden_size=600, num_layers=2))\n"
   ]
  },
  {
   "cell_type": "code",
   "execution_count": 7,
   "metadata": {},
   "outputs": [
    {
     "name": "stderr",
     "output_type": "stream",
     "text": [
      "Global seed set to 1\n",
      "Global seed set to 2\n",
      "Global seed set to 3\n",
      "Global seed set to 4\n",
      "Global seed set to 5\n",
      "Global seed set to 6\n",
      "Global seed set to 7\n",
      "Global seed set to 8\n",
      "Global seed set to 9\n",
      "Global seed set to 10\n"
     ]
    },
    {
     "data": {
      "text/plain": [
       "{'test/loss': '0.3990 ± 0.0023',\n",
       " 'test/f1': '0.0000 ± 0.0000',\n",
       " 'test/acc': '0.8660 ± 0.0000',\n",
       " 'test/precision': '0.0000 ± 0.0000',\n",
       " 'test/recall': '0.0000 ± 0.0000',\n",
       " 'train/loss': '0.2932 ± 0.0072',\n",
       " 'train/f1': '0.0029 ± 0.0090',\n",
       " 'train/acc': '0.9141 ± 0.0032',\n",
       " 'train/precision': '0.0109 ± 0.0346',\n",
       " 'train/recall': '0.0016 ± 0.0052'}"
      ]
     },
     "metadata": {},
     "output_type": "display_data"
    }
   ],
   "source": [
    "display(run_repeated_rnn(SG_CORPUS, 'rnn_300_10', feature_size=300, hidden_size=300, num_layers=10))\n"
   ]
  },
  {
   "cell_type": "code",
   "execution_count": 8,
   "metadata": {},
   "outputs": [
    {
     "name": "stderr",
     "output_type": "stream",
     "text": [
      "Global seed set to 1\n",
      "Global seed set to 2\n",
      "Global seed set to 3\n",
      "Global seed set to 4\n",
      "Global seed set to 5\n",
      "Global seed set to 6\n",
      "Global seed set to 7\n",
      "Global seed set to 8\n",
      "Global seed set to 9\n",
      "Global seed set to 10\n"
     ]
    },
    {
     "data": {
      "text/plain": [
       "{'test/loss': '0.4023 ± 0.0011',\n",
       " 'test/f1': '0.0000 ± 0.0000',\n",
       " 'test/acc': '0.8660 ± 0.0000',\n",
       " 'test/precision': '0.0000 ± 0.0000',\n",
       " 'test/recall': '0.0000 ± 0.0000',\n",
       " 'train/loss': '0.2908 ± 0.0002',\n",
       " 'train/f1': '0.0000 ± 0.0000',\n",
       " 'train/acc': '0.9151 ± 0.0000',\n",
       " 'train/precision': '0.0000 ± 0.0000',\n",
       " 'train/recall': '0.0000 ± 0.0000'}"
      ]
     },
     "metadata": {},
     "output_type": "display_data"
    }
   ],
   "source": [
    "\n",
    "display(run_repeated_rnn(SG_FULL, 'rnn_150_1', feature_size=300, hidden_size=150, num_layers=1))\n"
   ]
  },
  {
   "cell_type": "code",
   "execution_count": 9,
   "metadata": {},
   "outputs": [
    {
     "name": "stderr",
     "output_type": "stream",
     "text": [
      "Global seed set to 1\n",
      "Global seed set to 2\n",
      "Global seed set to 3\n",
      "Global seed set to 4\n",
      "Global seed set to 5\n",
      "Global seed set to 6\n",
      "Global seed set to 7\n",
      "Global seed set to 8\n",
      "Global seed set to 9\n",
      "Global seed set to 10\n"
     ]
    },
    {
     "data": {
      "text/plain": [
       "{'test/loss': '0.2652 ± 0.0080',\n",
       " 'test/f1': '0.3735 ± 0.1305',\n",
       " 'test/acc': '0.8865 ± 0.0061',\n",
       " 'test/precision': '0.7348 ± 0.0844',\n",
       " 'test/recall': '0.2716 ± 0.1255',\n",
       " 'train/loss': '0.2056 ± 0.0117',\n",
       " 'train/f1': '0.1651 ± 0.0567',\n",
       " 'train/acc': '0.9150 ± 0.0014',\n",
       " 'train/precision': '0.4909 ± 0.0320',\n",
       " 'train/recall': '0.1013 ± 0.0417'}"
      ]
     },
     "metadata": {},
     "output_type": "display_data"
    }
   ],
   "source": [
    "display(run_repeated_rnn(SG_FULL, 'rnn_150_2', feature_size=300, hidden_size=150, num_layers=2))\n"
   ]
  },
  {
   "cell_type": "code",
   "execution_count": 10,
   "metadata": {},
   "outputs": [
    {
     "name": "stderr",
     "output_type": "stream",
     "text": [
      "Global seed set to 1\n",
      "Global seed set to 2\n",
      "Global seed set to 3\n",
      "Global seed set to 4\n",
      "Global seed set to 5\n",
      "Global seed set to 6\n",
      "Global seed set to 7\n",
      "Global seed set to 8\n",
      "Global seed set to 9\n",
      "Global seed set to 10\n"
     ]
    },
    {
     "data": {
      "text/plain": [
       "{'test/loss': '0.2680 ± 0.0047',\n",
       " 'test/f1': '0.2616 ± 0.1516',\n",
       " 'test/acc': '0.8803 ± 0.0082',\n",
       " 'test/precision': '0.6789 ± 0.2536',\n",
       " 'test/recall': '0.1746 ± 0.1200',\n",
       " 'train/loss': '0.2010 ± 0.0073',\n",
       " 'train/f1': '0.1954 ± 0.0612',\n",
       " 'train/acc': '0.9154 ± 0.0013',\n",
       " 'train/precision': '0.4984 ± 0.0309',\n",
       " 'train/recall': '0.1239 ± 0.0459'}"
      ]
     },
     "metadata": {},
     "output_type": "display_data"
    }
   ],
   "source": [
    "display(run_repeated_rnn(SG_FULL, 'rnn_150_3', feature_size=300, hidden_size=150, num_layers=3))\n"
   ]
  },
  {
   "cell_type": "code",
   "execution_count": 11,
   "metadata": {},
   "outputs": [
    {
     "name": "stderr",
     "output_type": "stream",
     "text": [
      "Global seed set to 1\n",
      "Global seed set to 2\n",
      "Global seed set to 3\n",
      "Global seed set to 4\n",
      "Global seed set to 5\n",
      "Global seed set to 6\n",
      "Global seed set to 7\n",
      "Global seed set to 8\n",
      "Global seed set to 9\n",
      "Global seed set to 10\n"
     ]
    },
    {
     "data": {
      "text/plain": [
       "{'test/loss': '0.2664 ± 0.0095',\n",
       " 'test/f1': '0.3933 ± 0.0971',\n",
       " 'test/acc': '0.8815 ± 0.0041',\n",
       " 'test/precision': '0.6555 ± 0.0909',\n",
       " 'test/recall': '0.3052 ± 0.1288',\n",
       " 'train/loss': '0.2087 ± 0.0088',\n",
       " 'train/f1': '0.1899 ± 0.0734',\n",
       " 'train/acc': '0.9152 ± 0.0020',\n",
       " 'train/precision': '0.4923 ± 0.0479',\n",
       " 'train/recall': '0.1208 ± 0.0556'}"
      ]
     },
     "metadata": {},
     "output_type": "display_data"
    }
   ],
   "source": [
    "display(run_repeated_rnn(SG_FULL, 'rnn_300_5', feature_size=300, hidden_size=300, num_layers=2))\n"
   ]
  },
  {
   "cell_type": "code",
   "execution_count": 12,
   "metadata": {},
   "outputs": [
    {
     "name": "stderr",
     "output_type": "stream",
     "text": [
      "Global seed set to 1\n",
      "Global seed set to 2\n",
      "Global seed set to 3\n",
      "Global seed set to 4\n",
      "Global seed set to 5\n",
      "Global seed set to 6\n",
      "Global seed set to 7\n",
      "Global seed set to 8\n",
      "Global seed set to 9\n",
      "Global seed set to 10\n"
     ]
    },
    {
     "data": {
      "text/plain": [
       "{'test/loss': '0.2882 ± 0.0566',\n",
       " 'test/f1': '0.3563 ± 0.1956',\n",
       " 'test/acc': '0.8792 ± 0.0074',\n",
       " 'test/precision': '0.5904 ± 0.2430',\n",
       " 'test/recall': '0.2903 ± 0.1780',\n",
       " 'train/loss': '0.2354 ± 0.0404',\n",
       " 'train/f1': '0.1830 ± 0.1120',\n",
       " 'train/acc': '0.9143 ± 0.0019',\n",
       " 'train/precision': '0.3780 ± 0.2028',\n",
       " 'train/recall': '0.1224 ± 0.0792'}"
      ]
     },
     "metadata": {},
     "output_type": "display_data"
    }
   ],
   "source": [
    "display(run_repeated_rnn(SG_FULL, 'rnn_600_2', feature_size=300, hidden_size=600, num_layers=2))\n"
   ]
  },
  {
   "cell_type": "code",
   "execution_count": 13,
   "metadata": {},
   "outputs": [
    {
     "name": "stderr",
     "output_type": "stream",
     "text": [
      "Global seed set to 1\n",
      "Global seed set to 2\n",
      "Global seed set to 3\n",
      "Global seed set to 4\n",
      "Global seed set to 5\n",
      "Global seed set to 6\n",
      "Global seed set to 7\n",
      "Global seed set to 8\n",
      "Global seed set to 9\n",
      "Global seed set to 10\n"
     ]
    },
    {
     "data": {
      "text/plain": [
       "{'test/loss': '0.3988 ± 0.0025',\n",
       " 'test/f1': '0.0000 ± 0.0000',\n",
       " 'test/acc': '0.8660 ± 0.0000',\n",
       " 'test/precision': '0.0000 ± 0.0000',\n",
       " 'test/recall': '0.0000 ± 0.0000',\n",
       " 'train/loss': '0.2983 ± 0.0170',\n",
       " 'train/f1': '0.0074 ± 0.0160',\n",
       " 'train/acc': '0.9121 ± 0.0069',\n",
       " 'train/precision': '0.0207 ± 0.0438',\n",
       " 'train/recall': '0.0046 ± 0.0101'}"
      ]
     },
     "metadata": {},
     "output_type": "display_data"
    }
   ],
   "source": [
    "display(run_repeated_rnn(SG_FULL, 'rnn_300_10', feature_size=300, hidden_size=300, num_layers=10))"
   ]
  },
  {
   "cell_type": "code",
   "execution_count": 14,
   "metadata": {},
   "outputs": [
    {
     "name": "stderr",
     "output_type": "stream",
     "text": [
      "Global seed set to 1\n",
      "Global seed set to 2\n",
      "Global seed set to 3\n",
      "Global seed set to 4\n",
      "Global seed set to 5\n",
      "Global seed set to 6\n",
      "Global seed set to 7\n",
      "Global seed set to 8\n",
      "Global seed set to 9\n",
      "Global seed set to 10\n"
     ]
    },
    {
     "data": {
      "text/plain": [
       "{'test/loss': '0.3975 ± 0.0020',\n",
       " 'test/f1': '0.0000 ± 0.0000',\n",
       " 'test/acc': '0.8660 ± 0.0000',\n",
       " 'test/precision': '0.0000 ± 0.0000',\n",
       " 'test/recall': '0.0000 ± 0.0000',\n",
       " 'train/loss': '0.2997 ± 0.0109',\n",
       " 'train/f1': '0.0037 ± 0.0078',\n",
       " 'train/acc': '0.9129 ± 0.0046',\n",
       " 'train/precision': '0.0141 ± 0.0299',\n",
       " 'train/recall': '0.0021 ± 0.0045'}"
      ]
     },
     "metadata": {},
     "output_type": "display_data"
    }
   ],
   "source": [
    "display(run_repeated_rnn(SG_FULL, 'rnn_300_10', feature_size=300, hidden_size=300, num_layers=20))"
   ]
  },
  {
   "cell_type": "code",
   "execution_count": null,
   "metadata": {},
   "outputs": [],
   "source": [
    "\n"
   ]
  }
 ],
 "metadata": {
  "kernelspec": {
   "display_name": "Python 3 (ipykernel)",
   "language": "python",
   "name": "python3"
  },
  "language_info": {
   "codemirror_mode": {
    "name": "ipython",
    "version": 3
   },
   "file_extension": ".py",
   "mimetype": "text/x-python",
   "name": "python",
   "nbconvert_exporter": "python",
   "pygments_lexer": "ipython3",
   "version": "3.10.8"
  },
  "vscode": {
   "interpreter": {
    "hash": "685727852e42551632e0fc1e43e361d886b7ddaddaf1474b2acdf6903161a758"
   }
  }
 },
 "nbformat": 4,
 "nbformat_minor": 2
}
