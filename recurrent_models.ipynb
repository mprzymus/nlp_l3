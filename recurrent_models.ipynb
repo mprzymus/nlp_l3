{
 "cells": [
  {
   "cell_type": "code",
   "execution_count": 1,
   "metadata": {},
   "outputs": [],
   "source": [
    "from experiment import run_repeated_lstm, run_repeated_rnn\n",
    "from config import SG_CORPUS, SG_FULL"
   ]
  },
  {
   "cell_type": "code",
   "execution_count": 2,
   "metadata": {},
   "outputs": [
    {
     "name": "stderr",
     "output_type": "stream",
     "text": [
      "Global seed set to 1\n",
      "Global seed set to 2\n",
      "Global seed set to 3\n",
      "Global seed set to 4\n",
      "Global seed set to 5\n",
      "Global seed set to 6\n",
      "Global seed set to 7\n",
      "Global seed set to 8\n",
      "Global seed set to 9\n",
      "Global seed set to 10\n"
     ]
    },
    {
     "data": {
      "text/plain": [
       "{'test/loss': '0.2530 ± 0.0130',\n",
       " 'test/f1': '0.3515 ± 0.1872',\n",
       " 'test/acc': '0.8895 ± 0.0127',\n",
       " 'test/precision': '0.6236 ± 0.3296',\n",
       " 'test/recall': '0.2455 ± 0.1323',\n",
       " 'train/loss': '0.1802 ± 0.0154',\n",
       " 'train/f1': '0.3227 ± 0.1798',\n",
       " 'train/acc': '0.9228 ± 0.0044',\n",
       " 'train/precision': '0.4915 ± 0.2594',\n",
       " 'train/recall': '0.2447 ± 0.1430',\n",
       " 'train_time': '22.6248 ± 1.9552'}"
      ]
     },
     "execution_count": 2,
     "metadata": {},
     "output_type": "execute_result"
    }
   ],
   "source": [
    "run_repeated_lstm(SG_CORPUS, 'lstm_150_1_corp', feature_size=300, hidden_size=150, num_layers=1)"
   ]
  },
  {
   "cell_type": "code",
   "execution_count": 3,
   "metadata": {},
   "outputs": [
    {
     "name": "stderr",
     "output_type": "stream",
     "text": [
      "Global seed set to 1\n",
      "Global seed set to 2\n",
      "Global seed set to 3\n",
      "Global seed set to 4\n",
      "Global seed set to 5\n",
      "Global seed set to 6\n",
      "Global seed set to 7\n",
      "Global seed set to 8\n",
      "Global seed set to 9\n",
      "Global seed set to 10\n"
     ]
    },
    {
     "data": {
      "text/plain": [
       "{'test/loss': '0.2458 ± 0.0033',\n",
       " 'test/f1': '0.4916 ± 0.0372',\n",
       " 'test/acc': '0.8975 ± 0.0036',\n",
       " 'test/precision': '0.7358 ± 0.0424',\n",
       " 'test/recall': '0.3724 ± 0.0493',\n",
       " 'train/loss': '0.1676 ± 0.0081',\n",
       " 'train/f1': '0.5071 ± 0.0433',\n",
       " 'train/acc': '0.9292 ± 0.0040',\n",
       " 'train/precision': '0.6171 ± 0.0231',\n",
       " 'train/recall': '0.4316 ± 0.0536',\n",
       " 'train_time': '53.4025 ± 6.1677'}"
      ]
     },
     "execution_count": 3,
     "metadata": {},
     "output_type": "execute_result"
    }
   ],
   "source": [
    "run_repeated_lstm(SG_CORPUS, 'lstm_150_5_corp', feature_size=300, hidden_size=150, num_layers=5)"
   ]
  },
  {
   "cell_type": "code",
   "execution_count": 4,
   "metadata": {},
   "outputs": [
    {
     "name": "stderr",
     "output_type": "stream",
     "text": [
      "Global seed set to 1\n",
      "Global seed set to 2\n",
      "Global seed set to 3\n",
      "Global seed set to 4\n",
      "Global seed set to 5\n",
      "Global seed set to 6\n",
      "Global seed set to 7\n",
      "Global seed set to 8\n",
      "Global seed set to 9\n",
      "Global seed set to 10\n"
     ]
    },
    {
     "data": {
      "text/plain": [
       "{'test/loss': '0.2479 ± 0.0037',\n",
       " 'test/f1': '0.4332 ± 0.0473',\n",
       " 'test/acc': '0.8957 ± 0.0034',\n",
       " 'test/precision': '0.8021 ± 0.0511',\n",
       " 'test/recall': '0.3007 ± 0.0535',\n",
       " 'train/loss': '0.1749 ± 0.0078',\n",
       " 'train/f1': '0.4525 ± 0.0378',\n",
       " 'train/acc': '0.9268 ± 0.0030',\n",
       " 'train/precision': '0.6181 ± 0.0249',\n",
       " 'train/recall': '0.3577 ± 0.0400',\n",
       " 'train_time': '35.2813 ± 3.1816'}"
      ]
     },
     "execution_count": 4,
     "metadata": {},
     "output_type": "execute_result"
    }
   ],
   "source": [
    "run_repeated_lstm(SG_CORPUS, 'lstm_300_5', feature_size=300, hidden_size=300, num_layers=5)"
   ]
  },
  {
   "cell_type": "code",
   "execution_count": 5,
   "metadata": {},
   "outputs": [
    {
     "name": "stderr",
     "output_type": "stream",
     "text": [
      "Global seed set to 1\n",
      "Global seed set to 2\n",
      "Global seed set to 3\n",
      "Global seed set to 4\n",
      "Global seed set to 5\n",
      "Global seed set to 6\n",
      "Global seed set to 7\n",
      "Global seed set to 8\n",
      "Global seed set to 9\n",
      "Global seed set to 10\n"
     ]
    },
    {
     "data": {
      "text/plain": [
       "{'test/loss': '0.2424 ± 0.0021',\n",
       " 'test/f1': '0.4590 ± 0.0260',\n",
       " 'test/acc': '0.8967 ± 0.0025',\n",
       " 'test/precision': '0.7742 ± 0.0488',\n",
       " 'test/recall': '0.3284 ± 0.0337',\n",
       " 'train/loss': '0.1807 ± 0.0065',\n",
       " 'train/f1': '0.4237 ± 0.0419',\n",
       " 'train/acc': '0.9255 ± 0.0021',\n",
       " 'train/precision': '0.6158 ± 0.0110',\n",
       " 'train/recall': '0.3249 ± 0.0486',\n",
       " 'train_time': '34.2771 ± 4.1744'}"
      ]
     },
     "execution_count": 5,
     "metadata": {},
     "output_type": "execute_result"
    }
   ],
   "source": [
    "run_repeated_lstm(SG_CORPUS, 'lstm_600_2_corp', feature_size=300, hidden_size=600, num_layers=2)"
   ]
  },
  {
   "cell_type": "code",
   "execution_count": 6,
   "metadata": {},
   "outputs": [
    {
     "name": "stderr",
     "output_type": "stream",
     "text": [
      "Global seed set to 1\n",
      "Global seed set to 2\n",
      "Global seed set to 3\n",
      "Global seed set to 4\n",
      "Global seed set to 5\n",
      "Global seed set to 6\n",
      "Global seed set to 7\n",
      "Global seed set to 8\n",
      "Global seed set to 9\n",
      "Global seed set to 10\n"
     ]
    },
    {
     "data": {
      "text/plain": [
       "{'test/loss': '0.2532 ± 0.0055',\n",
       " 'test/f1': '0.4494 ± 0.0431',\n",
       " 'test/acc': '0.8938 ± 0.0039',\n",
       " 'test/precision': '0.7490 ± 0.0804',\n",
       " 'test/recall': '0.3269 ± 0.0530',\n",
       " 'train/loss': '0.1761 ± 0.0116',\n",
       " 'train/f1': '0.4508 ± 0.0640',\n",
       " 'train/acc': '0.9266 ± 0.0031',\n",
       " 'train/precision': '0.6145 ± 0.0119',\n",
       " 'train/recall': '0.3609 ± 0.0760',\n",
       " 'train_time': '62.4924 ± 7.4035'}"
      ]
     },
     "execution_count": 6,
     "metadata": {},
     "output_type": "execute_result"
    }
   ],
   "source": [
    "run_repeated_lstm(SG_CORPUS, 'lstm_300_10_corp', feature_size=300, hidden_size=300, num_layers=10)"
   ]
  },
  {
   "cell_type": "code",
   "execution_count": 7,
   "metadata": {},
   "outputs": [
    {
     "name": "stderr",
     "output_type": "stream",
     "text": [
      "Global seed set to 1\n",
      "Global seed set to 2\n"
     ]
    },
    {
     "data": {
      "text/plain": [
       "{'test/loss': '0.4010 ± 0.0007',\n",
       " 'test/f1': '0.0000 ± 0.0000',\n",
       " 'test/acc': '0.8660 ± 0.0000',\n",
       " 'test/precision': '0.0000 ± 0.0000',\n",
       " 'test/recall': '0.0000 ± 0.0000',\n",
       " 'train/loss': '0.2904 ± 0.0000',\n",
       " 'train/f1': '0.0000 ± 0.0000',\n",
       " 'train/acc': '0.9151 ± 0.0000',\n",
       " 'train/precision': '0.0000 ± 0.0000',\n",
       " 'train/recall': '0.0000 ± 0.0000',\n",
       " 'train_time': '66.9962 ± 19.7307'}"
      ]
     },
     "execution_count": 7,
     "metadata": {},
     "output_type": "execute_result"
    }
   ],
   "source": [
    "run_repeated_lstm(SG_CORPUS, 'lstm_100_30_corp', seed_start=1, seed_end=3, feature_size=300, hidden_size=100, num_layers=30)"
   ]
  },
  {
   "cell_type": "code",
   "execution_count": 8,
   "metadata": {},
   "outputs": [
    {
     "name": "stderr",
     "output_type": "stream",
     "text": [
      "Global seed set to 1\n",
      "Global seed set to 2\n",
      "Global seed set to 3\n",
      "Global seed set to 4\n",
      "Global seed set to 5\n",
      "Global seed set to 6\n",
      "Global seed set to 7\n",
      "Global seed set to 8\n",
      "Global seed set to 9\n",
      "Global seed set to 10\n"
     ]
    },
    {
     "data": {
      "text/plain": [
       "{'test/loss': '0.2731 ± 0.0099',\n",
       " 'test/f1': '0.0594 ± 0.1378',\n",
       " 'test/acc': '0.8688 ± 0.0069',\n",
       " 'test/precision': '0.2103 ± 0.3411',\n",
       " 'test/recall': '0.0410 ± 0.1025',\n",
       " 'train/loss': '0.1916 ± 0.0077',\n",
       " 'train/f1': '0.0387 ± 0.1069',\n",
       " 'train/acc': '0.9154 ± 0.0014',\n",
       " 'train/precision': '0.1826 ± 0.2605',\n",
       " 'train/recall': '0.0270 ± 0.0774',\n",
       " 'train_time': '23.3883 ± 2.8082'}"
      ]
     },
     "execution_count": 8,
     "metadata": {},
     "output_type": "execute_result"
    }
   ],
   "source": [
    "run_repeated_lstm(SG_FULL, 'lstm_150_1_full', feature_size=300, hidden_size=150, num_layers=1)\n"
   ]
  },
  {
   "cell_type": "code",
   "execution_count": 9,
   "metadata": {},
   "outputs": [
    {
     "name": "stderr",
     "output_type": "stream",
     "text": [
      "Global seed set to 1\n",
      "Global seed set to 2\n",
      "Global seed set to 3\n",
      "Global seed set to 4\n",
      "Global seed set to 5\n",
      "Global seed set to 6\n",
      "Global seed set to 7\n",
      "Global seed set to 8\n",
      "Global seed set to 9\n",
      "Global seed set to 10\n"
     ]
    },
    {
     "data": {
      "text/plain": [
       "{'test/loss': '0.2582 ± 0.0033',\n",
       " 'test/f1': '0.3092 ± 0.1090',\n",
       " 'test/acc': '0.8809 ± 0.0061',\n",
       " 'test/precision': '0.6921 ± 0.0438',\n",
       " 'test/recall': '0.2104 ± 0.1034',\n",
       " 'train/loss': '0.1855 ± 0.0077',\n",
       " 'train/f1': '0.3016 ± 0.0875',\n",
       " 'train/acc': '0.9206 ± 0.0021',\n",
       " 'train/precision': '0.5974 ± 0.0357',\n",
       " 'train/recall': '0.2094 ± 0.0758',\n",
       " 'train_time': '50.3365 ± 4.3906'}"
      ]
     },
     "execution_count": 9,
     "metadata": {},
     "output_type": "execute_result"
    }
   ],
   "source": [
    "run_repeated_lstm(SG_FULL, 'lstm_150_5_full', feature_size=300, hidden_size=150, num_layers=5)\n"
   ]
  },
  {
   "cell_type": "code",
   "execution_count": 10,
   "metadata": {},
   "outputs": [
    {
     "name": "stderr",
     "output_type": "stream",
     "text": [
      "Global seed set to 1\n",
      "Global seed set to 2\n",
      "Global seed set to 3\n",
      "Global seed set to 4\n",
      "Global seed set to 5\n",
      "Global seed set to 6\n",
      "Global seed set to 7\n",
      "Global seed set to 8\n",
      "Global seed set to 9\n",
      "Global seed set to 10\n"
     ]
    },
    {
     "data": {
      "text/plain": [
       "{'test/loss': '0.2613 ± 0.0020',\n",
       " 'test/f1': '0.3205 ± 0.0951',\n",
       " 'test/acc': '0.8821 ± 0.0055',\n",
       " 'test/precision': '0.7031 ± 0.0365',\n",
       " 'test/recall': '0.2157 ± 0.0839',\n",
       " 'train/loss': '0.1862 ± 0.0127',\n",
       " 'train/f1': '0.3461 ± 0.0814',\n",
       " 'train/acc': '0.9219 ± 0.0038',\n",
       " 'train/precision': '0.5897 ± 0.0234',\n",
       " 'train/recall': '0.2502 ± 0.0814',\n",
       " 'train_time': '34.3835 ± 6.0070'}"
      ]
     },
     "execution_count": 10,
     "metadata": {},
     "output_type": "execute_result"
    }
   ],
   "source": [
    "run_repeated_lstm(SG_FULL, 'lstm_300_5_full', feature_size=300, hidden_size=300, num_layers=5)\n"
   ]
  },
  {
   "cell_type": "code",
   "execution_count": 11,
   "metadata": {},
   "outputs": [
    {
     "name": "stderr",
     "output_type": "stream",
     "text": [
      "Global seed set to 1\n",
      "Global seed set to 2\n",
      "Global seed set to 3\n",
      "Global seed set to 4\n",
      "Global seed set to 5\n",
      "Global seed set to 6\n",
      "Global seed set to 7\n",
      "Global seed set to 8\n",
      "Global seed set to 9\n",
      "Global seed set to 10\n"
     ]
    },
    {
     "data": {
      "text/plain": [
       "{'test/loss': '0.2594 ± 0.0015',\n",
       " 'test/f1': '0.3535 ± 0.0551',\n",
       " 'test/acc': '0.8851 ± 0.0026',\n",
       " 'test/precision': '0.7228 ± 0.0419',\n",
       " 'test/recall': '0.2381 ± 0.0556',\n",
       " 'train/loss': '0.1943 ± 0.0058',\n",
       " 'train/f1': '0.2976 ± 0.0488',\n",
       " 'train/acc': '0.9196 ± 0.0015',\n",
       " 'train/precision': '0.5737 ± 0.0169',\n",
       " 'train/recall': '0.2031 ± 0.0434',\n",
       " 'train_time': '31.2964 ± 2.5807'}"
      ]
     },
     "execution_count": 11,
     "metadata": {},
     "output_type": "execute_result"
    }
   ],
   "source": [
    "run_repeated_lstm(SG_FULL, 'lstm_600_2_full', feature_size=300, hidden_size=600, num_layers=2)\n"
   ]
  },
  {
   "cell_type": "code",
   "execution_count": 12,
   "metadata": {},
   "outputs": [
    {
     "name": "stderr",
     "output_type": "stream",
     "text": [
      "Global seed set to 1\n",
      "Global seed set to 2\n",
      "Global seed set to 3\n",
      "Global seed set to 4\n",
      "Global seed set to 5\n",
      "Global seed set to 6\n",
      "Global seed set to 7\n",
      "Global seed set to 8\n",
      "Global seed set to 9\n",
      "Global seed set to 10\n"
     ]
    },
    {
     "data": {
      "text/plain": [
       "{'test/loss': '0.2675 ± 0.0094',\n",
       " 'test/f1': '0.3243 ± 0.1049',\n",
       " 'test/acc': '0.8805 ± 0.0042',\n",
       " 'test/precision': '0.7023 ± 0.0938',\n",
       " 'test/recall': '0.2269 ± 0.1018',\n",
       " 'train/loss': '0.1892 ± 0.0079',\n",
       " 'train/f1': '0.3017 ± 0.0747',\n",
       " 'train/acc': '0.9196 ± 0.0016',\n",
       " 'train/precision': '0.5713 ± 0.0161',\n",
       " 'train/recall': '0.2105 ± 0.0689',\n",
       " 'train_time': '63.5989 ± 8.0955'}"
      ]
     },
     "execution_count": 12,
     "metadata": {},
     "output_type": "execute_result"
    }
   ],
   "source": [
    "run_repeated_lstm(SG_FULL, 'lstm_300_10_full', feature_size=300, hidden_size=300, num_layers=10)"
   ]
  },
  {
   "cell_type": "code",
   "execution_count": 13,
   "metadata": {},
   "outputs": [
    {
     "name": "stderr",
     "output_type": "stream",
     "text": [
      "Global seed set to 1\n",
      "Global seed set to 2\n",
      "Global seed set to 3\n",
      "Global seed set to 4\n",
      "Global seed set to 5\n",
      "Global seed set to 6\n",
      "Global seed set to 7\n",
      "Global seed set to 8\n",
      "Global seed set to 9\n",
      "Global seed set to 10\n"
     ]
    },
    {
     "data": {
      "text/plain": [
       "{'test/loss': '0.4022 ± 0.0011',\n",
       " 'test/f1': '0.0000 ± 0.0000',\n",
       " 'test/acc': '0.8660 ± 0.0000',\n",
       " 'test/precision': '0.0000 ± 0.0000',\n",
       " 'test/recall': '0.0000 ± 0.0000',\n",
       " 'train/loss': '0.2907 ± 0.0002',\n",
       " 'train/f1': '0.0000 ± 0.0000',\n",
       " 'train/acc': '0.9151 ± 0.0000',\n",
       " 'train/precision': '0.0000 ± 0.0000',\n",
       " 'train/recall': '0.0000 ± 0.0000',\n",
       " 'train_time': '14.0116 ± 4.9343'}"
      ]
     },
     "metadata": {},
     "output_type": "display_data"
    }
   ],
   "source": [
    "display(run_repeated_rnn(SG_CORPUS, 'rnn_150_1', feature_size=300, hidden_size=150, num_layers=1))\n"
   ]
  },
  {
   "cell_type": "code",
   "execution_count": 14,
   "metadata": {},
   "outputs": [
    {
     "name": "stderr",
     "output_type": "stream",
     "text": [
      "Global seed set to 1\n",
      "Global seed set to 2\n",
      "Global seed set to 3\n",
      "Global seed set to 4\n",
      "Global seed set to 5\n",
      "Global seed set to 6\n",
      "Global seed set to 7\n",
      "Global seed set to 8\n",
      "Global seed set to 9\n",
      "Global seed set to 10\n"
     ]
    },
    {
     "data": {
      "text/plain": [
       "{'test/loss': '0.2474 ± 0.0038',\n",
       " 'test/f1': '0.4581 ± 0.0762',\n",
       " 'test/acc': '0.8941 ± 0.0031',\n",
       " 'test/precision': '0.7457 ± 0.0924',\n",
       " 'test/recall': '0.3448 ± 0.0945',\n",
       " 'train/loss': '0.1958 ± 0.0113',\n",
       " 'train/f1': '0.3406 ± 0.0804',\n",
       " 'train/acc': '0.9206 ± 0.0026',\n",
       " 'train/precision': '0.5698 ± 0.0212',\n",
       " 'train/recall': '0.2485 ± 0.0767',\n",
       " 'train_time': '14.1101 ± 2.5092'}"
      ]
     },
     "metadata": {},
     "output_type": "display_data"
    }
   ],
   "source": [
    "display(run_repeated_rnn(SG_CORPUS, 'rnn_150_2', feature_size=300, hidden_size=150, num_layers=2))\n"
   ]
  },
  {
   "cell_type": "code",
   "execution_count": 15,
   "metadata": {},
   "outputs": [
    {
     "name": "stderr",
     "output_type": "stream",
     "text": [
      "Global seed set to 1\n",
      "Global seed set to 2\n",
      "Global seed set to 3\n",
      "Global seed set to 4\n",
      "Global seed set to 5\n",
      "Global seed set to 6\n",
      "Global seed set to 7\n",
      "Global seed set to 8\n",
      "Global seed set to 9\n",
      "Global seed set to 10\n"
     ]
    },
    {
     "data": {
      "text/plain": [
       "{'test/loss': '0.2630 ± 0.0475',\n",
       " 'test/f1': '0.4123 ± 0.1501',\n",
       " 'test/acc': '0.8910 ± 0.0091',\n",
       " 'test/precision': '0.6556 ± 0.2342',\n",
       " 'test/recall': '0.3045 ± 0.1181',\n",
       " 'train/loss': '0.2075 ± 0.0314',\n",
       " 'train/f1': '0.2884 ± 0.1236',\n",
       " 'train/acc': '0.9187 ± 0.0026',\n",
       " 'train/precision': '0.4976 ± 0.1760',\n",
       " 'train/recall': '0.2075 ± 0.0998',\n",
       " 'train_time': '14.4112 ± 2.9146'}"
      ]
     },
     "metadata": {},
     "output_type": "display_data"
    }
   ],
   "source": [
    "display(run_repeated_rnn(SG_CORPUS, 'rnn_150_3', feature_size=300, hidden_size=150, num_layers=3))\n"
   ]
  },
  {
   "cell_type": "code",
   "execution_count": 16,
   "metadata": {},
   "outputs": [
    {
     "name": "stderr",
     "output_type": "stream",
     "text": [
      "Global seed set to 1\n",
      "Global seed set to 2\n",
      "Global seed set to 3\n",
      "Global seed set to 4\n",
      "Global seed set to 5\n",
      "Global seed set to 6\n",
      "Global seed set to 7\n",
      "Global seed set to 8\n",
      "Global seed set to 9\n",
      "Global seed set to 10\n"
     ]
    },
    {
     "data": {
      "text/plain": [
       "{'test/loss': '0.2464 ± 0.0071',\n",
       " 'test/f1': '0.4805 ± 0.0782',\n",
       " 'test/acc': '0.8910 ± 0.0051',\n",
       " 'test/precision': '0.6688 ± 0.0432',\n",
       " 'test/recall': '0.3881 ± 0.1035',\n",
       " 'train/loss': '0.2036 ± 0.0250',\n",
       " 'train/f1': '0.3035 ± 0.0899',\n",
       " 'train/acc': '0.9187 ± 0.0027',\n",
       " 'train/precision': '0.5463 ± 0.0363',\n",
       " 'train/recall': '0.2159 ± 0.0739',\n",
       " 'train_time': '23.3908 ± 2.9523'}"
      ]
     },
     "metadata": {},
     "output_type": "display_data"
    }
   ],
   "source": [
    "display(run_repeated_rnn(SG_CORPUS, 'rnn_300_5', feature_size=300, hidden_size=300, num_layers=2))\n"
   ]
  },
  {
   "cell_type": "code",
   "execution_count": 17,
   "metadata": {},
   "outputs": [
    {
     "name": "stderr",
     "output_type": "stream",
     "text": [
      "Global seed set to 1\n",
      "Global seed set to 2\n",
      "Global seed set to 3\n",
      "Global seed set to 4\n",
      "Global seed set to 5\n",
      "Global seed set to 6\n",
      "Global seed set to 7\n",
      "Global seed set to 8\n",
      "Global seed set to 9\n",
      "Global seed set to 10\n"
     ]
    },
    {
     "data": {
      "text/plain": [
       "{'test/loss': '0.2554 ± 0.0125',\n",
       " 'test/f1': '0.4796 ± 0.0437',\n",
       " 'test/acc': '0.8909 ± 0.0051',\n",
       " 'test/precision': '0.6735 ± 0.0628',\n",
       " 'test/recall': '0.3799 ± 0.0683',\n",
       " 'train/loss': '0.2022 ± 0.0237',\n",
       " 'train/f1': '0.3486 ± 0.1002',\n",
       " 'train/acc': '0.9194 ± 0.0028',\n",
       " 'train/precision': '0.5426 ± 0.0475',\n",
       " 'train/recall': '0.2645 ± 0.0920',\n",
       " 'train_time': '18.0059 ± 4.2421'}"
      ]
     },
     "metadata": {},
     "output_type": "display_data"
    }
   ],
   "source": [
    "display(run_repeated_rnn(SG_CORPUS, 'rnn_600_2', feature_size=300, hidden_size=600, num_layers=2))\n"
   ]
  },
  {
   "cell_type": "code",
   "execution_count": 18,
   "metadata": {},
   "outputs": [
    {
     "name": "stderr",
     "output_type": "stream",
     "text": [
      "Global seed set to 1\n",
      "Global seed set to 2\n",
      "Global seed set to 3\n",
      "Global seed set to 4\n",
      "Global seed set to 5\n",
      "Global seed set to 6\n",
      "Global seed set to 7\n",
      "Global seed set to 8\n",
      "Global seed set to 9\n",
      "Global seed set to 10\n"
     ]
    },
    {
     "data": {
      "text/plain": [
       "{'test/loss': '0.3990 ± 0.0023',\n",
       " 'test/f1': '0.0000 ± 0.0000',\n",
       " 'test/acc': '0.8660 ± 0.0000',\n",
       " 'test/precision': '0.0000 ± 0.0000',\n",
       " 'test/recall': '0.0000 ± 0.0000',\n",
       " 'train/loss': '0.2910 ± 0.0008',\n",
       " 'train/f1': '0.0000 ± 0.0000',\n",
       " 'train/acc': '0.9151 ± 0.0000',\n",
       " 'train/precision': '0.0000 ± 0.0000',\n",
       " 'train/recall': '0.0000 ± 0.0000',\n",
       " 'train_time': '84.2163 ± 38.9214'}"
      ]
     },
     "metadata": {},
     "output_type": "display_data"
    }
   ],
   "source": [
    "display(run_repeated_rnn(SG_CORPUS, 'rnn_300_10', feature_size=300, hidden_size=300, num_layers=10))\n"
   ]
  },
  {
   "cell_type": "code",
   "execution_count": 19,
   "metadata": {},
   "outputs": [
    {
     "name": "stderr",
     "output_type": "stream",
     "text": [
      "Global seed set to 1\n",
      "Global seed set to 2\n",
      "Global seed set to 3\n",
      "Global seed set to 4\n",
      "Global seed set to 5\n",
      "Global seed set to 6\n",
      "Global seed set to 7\n",
      "Global seed set to 8\n",
      "Global seed set to 9\n",
      "Global seed set to 10\n"
     ]
    },
    {
     "data": {
      "text/plain": [
       "{'test/loss': '0.4023 ± 0.0011',\n",
       " 'test/f1': '0.0000 ± 0.0000',\n",
       " 'test/acc': '0.8660 ± 0.0000',\n",
       " 'test/precision': '0.0000 ± 0.0000',\n",
       " 'test/recall': '0.0000 ± 0.0000',\n",
       " 'train/loss': '0.2907 ± 0.0002',\n",
       " 'train/f1': '0.0000 ± 0.0000',\n",
       " 'train/acc': '0.9151 ± 0.0000',\n",
       " 'train/precision': '0.0000 ± 0.0000',\n",
       " 'train/recall': '0.0000 ± 0.0000',\n",
       " 'train_time': '13.3034 ± 4.8339'}"
      ]
     },
     "metadata": {},
     "output_type": "display_data"
    }
   ],
   "source": [
    "\n",
    "display(run_repeated_rnn(SG_FULL, 'rnn_150_1', feature_size=300, hidden_size=150, num_layers=1))\n"
   ]
  },
  {
   "cell_type": "code",
   "execution_count": 20,
   "metadata": {},
   "outputs": [
    {
     "name": "stderr",
     "output_type": "stream",
     "text": [
      "Global seed set to 1\n",
      "Global seed set to 2\n",
      "Global seed set to 3\n",
      "Global seed set to 4\n",
      "Global seed set to 5\n",
      "Global seed set to 6\n",
      "Global seed set to 7\n",
      "Global seed set to 8\n",
      "Global seed set to 9\n",
      "Global seed set to 10\n"
     ]
    },
    {
     "data": {
      "text/plain": [
       "{'test/loss': '0.2652 ± 0.0080',\n",
       " 'test/f1': '0.3735 ± 0.1305',\n",
       " 'test/acc': '0.8865 ± 0.0061',\n",
       " 'test/precision': '0.7348 ± 0.0844',\n",
       " 'test/recall': '0.2716 ± 0.1255',\n",
       " 'train/loss': '0.2023 ± 0.0083',\n",
       " 'train/f1': '0.1720 ± 0.0693',\n",
       " 'train/acc': '0.9149 ± 0.0016',\n",
       " 'train/precision': '0.4783 ± 0.0529',\n",
       " 'train/recall': '0.1072 ± 0.0499',\n",
       " 'train_time': '14.3070 ± 1.4645'}"
      ]
     },
     "metadata": {},
     "output_type": "display_data"
    }
   ],
   "source": [
    "display(run_repeated_rnn(SG_FULL, 'rnn_150_2', feature_size=300, hidden_size=150, num_layers=2))\n"
   ]
  },
  {
   "cell_type": "code",
   "execution_count": 21,
   "metadata": {},
   "outputs": [
    {
     "name": "stderr",
     "output_type": "stream",
     "text": [
      "Global seed set to 1\n",
      "Global seed set to 2\n",
      "Global seed set to 3\n",
      "Global seed set to 4\n",
      "Global seed set to 5\n",
      "Global seed set to 6\n",
      "Global seed set to 7\n",
      "Global seed set to 8\n",
      "Global seed set to 9\n",
      "Global seed set to 10\n"
     ]
    },
    {
     "data": {
      "text/plain": [
       "{'test/loss': '0.2680 ± 0.0047',\n",
       " 'test/f1': '0.2616 ± 0.1516',\n",
       " 'test/acc': '0.8803 ± 0.0082',\n",
       " 'test/precision': '0.6789 ± 0.2536',\n",
       " 'test/recall': '0.1746 ± 0.1200',\n",
       " 'train/loss': '0.1977 ± 0.0069',\n",
       " 'train/f1': '0.2183 ± 0.0589',\n",
       " 'train/acc': '0.9161 ± 0.0019',\n",
       " 'train/precision': '0.5151 ± 0.0349',\n",
       " 'train/recall': '0.1407 ± 0.0477',\n",
       " 'train_time': '16.4270 ± 2.5203'}"
      ]
     },
     "metadata": {},
     "output_type": "display_data"
    }
   ],
   "source": [
    "display(run_repeated_rnn(SG_FULL, 'rnn_150_3', feature_size=300, hidden_size=150, num_layers=3))\n"
   ]
  },
  {
   "cell_type": "code",
   "execution_count": 22,
   "metadata": {},
   "outputs": [
    {
     "name": "stderr",
     "output_type": "stream",
     "text": [
      "Global seed set to 1\n",
      "Global seed set to 2\n",
      "Global seed set to 3\n",
      "Global seed set to 4\n",
      "Global seed set to 5\n",
      "Global seed set to 6\n",
      "Global seed set to 7\n",
      "Global seed set to 8\n",
      "Global seed set to 9\n",
      "Global seed set to 10\n"
     ]
    },
    {
     "data": {
      "text/plain": [
       "{'test/loss': '0.2664 ± 0.0095',\n",
       " 'test/f1': '0.3933 ± 0.0971',\n",
       " 'test/acc': '0.8815 ± 0.0041',\n",
       " 'test/precision': '0.6555 ± 0.0909',\n",
       " 'test/recall': '0.3052 ± 0.1288',\n",
       " 'train/loss': '0.2021 ± 0.0055',\n",
       " 'train/f1': '0.2044 ± 0.0695',\n",
       " 'train/acc': '0.9155 ± 0.0016',\n",
       " 'train/precision': '0.4998 ± 0.0333',\n",
       " 'train/recall': '0.1316 ± 0.0531',\n",
       " 'train_time': '25.9683 ± 2.6059'}"
      ]
     },
     "metadata": {},
     "output_type": "display_data"
    }
   ],
   "source": [
    "display(run_repeated_rnn(SG_FULL, 'rnn_300_5', feature_size=300, hidden_size=300, num_layers=2))\n"
   ]
  },
  {
   "cell_type": "code",
   "execution_count": 23,
   "metadata": {},
   "outputs": [
    {
     "name": "stderr",
     "output_type": "stream",
     "text": [
      "Global seed set to 1\n",
      "Global seed set to 2\n",
      "Global seed set to 3\n",
      "Global seed set to 4\n",
      "Global seed set to 5\n",
      "Global seed set to 6\n",
      "Global seed set to 7\n",
      "Global seed set to 8\n",
      "Global seed set to 9\n",
      "Global seed set to 10\n"
     ]
    },
    {
     "data": {
      "text/plain": [
       "{'test/loss': '0.2882 ± 0.0566',\n",
       " 'test/f1': '0.3563 ± 0.1956',\n",
       " 'test/acc': '0.8792 ± 0.0074',\n",
       " 'test/precision': '0.5904 ± 0.2430',\n",
       " 'test/recall': '0.2903 ± 0.1780',\n",
       " 'train/loss': '0.2238 ± 0.0356',\n",
       " 'train/f1': '0.1919 ± 0.1078',\n",
       " 'train/acc': '0.9150 ± 0.0017',\n",
       " 'train/precision': '0.4531 ± 0.1648',\n",
       " 'train/recall': '0.1276 ± 0.0752',\n",
       " 'train_time': '15.6483 ± 3.3036'}"
      ]
     },
     "metadata": {},
     "output_type": "display_data"
    }
   ],
   "source": [
    "display(run_repeated_rnn(SG_FULL, 'rnn_600_2', feature_size=300, hidden_size=600, num_layers=2))\n"
   ]
  },
  {
   "cell_type": "code",
   "execution_count": null,
   "metadata": {},
   "outputs": [],
   "source": [
    "display(run_repeated_rnn(SG_FULL, 'rnn_300_10', feature_size=300, hidden_size=300, num_layers=10))"
   ]
  },
  {
   "cell_type": "code",
   "execution_count": null,
   "metadata": {},
   "outputs": [
    {
     "name": "stderr",
     "output_type": "stream",
     "text": [
      "Global seed set to 1\n",
      "Global seed set to 2\n",
      "Global seed set to 3\n",
      "Global seed set to 4\n",
      "Global seed set to 5\n",
      "Global seed set to 6\n",
      "Global seed set to 7\n",
      "Global seed set to 8\n",
      "Global seed set to 9\n",
      "Global seed set to 10\n"
     ]
    },
    {
     "data": {
      "text/plain": [
       "{'test/loss': '0.3975 ± 0.0020',\n",
       " 'test/f1': '0.0000 ± 0.0000',\n",
       " 'test/acc': '0.8660 ± 0.0000',\n",
       " 'test/precision': '0.0000 ± 0.0000',\n",
       " 'test/recall': '0.0000 ± 0.0000',\n",
       " 'train/loss': '0.2997 ± 0.0109',\n",
       " 'train/f1': '0.0037 ± 0.0078',\n",
       " 'train/acc': '0.9129 ± 0.0046',\n",
       " 'train/precision': '0.0141 ± 0.0299',\n",
       " 'train/recall': '0.0021 ± 0.0045'}"
      ]
     },
     "metadata": {},
     "output_type": "display_data"
    },
    {
     "ename": "",
     "evalue": "",
     "output_type": "error",
     "traceback": [
      "\u001b[1;31mnotebook controller is DISPOSED. \n",
      "\u001b[1;31mView Jupyter <a href='command:jupyter.viewOutput'>log</a> for further details."
     ]
    }
   ],
   "source": [
    "display(run_repeated_rnn(SG_FULL, 'rnn_300_10', feature_size=300, hidden_size=300, num_layers=20))"
   ]
  },
  {
   "cell_type": "code",
   "execution_count": 5,
   "metadata": {},
   "outputs": [],
   "source": [
    "from torch.utils.data import DataLoader\n",
    "\n",
    "from config import PROBLEM_TEST\n",
    "from data import RnnDataset\n",
    "from experiment import calculate_memory_usage, test_inference_time, check_errors\n",
    "from nn import LSTMModel, RNNModel\n",
    "from experiment import calculate_memory_usage, test_inference_time, check_errors\n",
    "from experiment import run_repeated_lstm, run_repeated_rnn\n",
    "from config import SG_CORPUS, SG_FULL\n",
    "\n",
    "models_dict = {\n",
    "    'rnn_150_1': RNNModel(feature_size=300, hidden_size=150, num_layers=1).cuda(),\n",
    "    'rnn_150_2': RNNModel(feature_size=300, hidden_size=150, num_layers=2).cuda(),\n",
    "    'rnn_150_3': RNNModel(feature_size=300, hidden_size=150, num_layers=3).cuda(),\n",
    "    'rnn_600_2': RNNModel(feature_size=300, hidden_size=600, num_layers=2).cuda(),\n",
    "    'rnn_300_10': RNNModel(feature_size=300, hidden_size=300, num_layers=10).cuda(),\n",
    "\n",
    "    'lstm_150_1': LSTMModel(feature_size=300, hidden_size=150, num_layers=1).cuda(),\n",
    "    'lstm_150_5': LSTMModel(feature_size=300, hidden_size=150, num_layers=5).cuda(),\n",
    "    'lstm_300_5': LSTMModel(feature_size=300, hidden_size=300, num_layers=5).cuda(),\n",
    "    'lstm_600_2': LSTMModel(feature_size=300, hidden_size=600, num_layers=2).cuda(),\n",
    "    'lstm_300_10': LSTMModel(feature_size=300, hidden_size=300, num_layers=10).cuda(),\n",
    "    'lstm_100_30': LSTMModel(feature_size=300, hidden_size=100, num_layers=30).cuda(),\n",
    "}\n",
    "dataset = RnnDataset(PROBLEM_TEST, SG_CORPUS)\n",
    "loader = DataLoader(\n",
    "    dataset,\n",
    "    batch_size=128,\n",
    "    pin_memory=True,\n",
    "    drop_last=True,\n",
    ")"
   ]
  },
  {
   "cell_type": "code",
   "execution_count": 3,
   "metadata": {},
   "outputs": [
    {
     "name": "stdout",
     "output_type": "stream",
     "text": [
      "rnn_150_1 0.0003 ± 0.0014 0.259 MB\n",
      "rnn_150_2 0.0002 ± 0.0000 0.432 MB\n",
      "rnn_150_3 0.0002 ± 0.0000 0.605 MB\n",
      "rnn_600_2 0.0009 ± 0.0001 4.818 MB\n",
      "rnn_300_10 0.0005 ± 0.0001 6.890 MB\n",
      "lstm_150_1 0.0002 ± 0.0001 1.035 MB\n",
      "lstm_150_5 0.0004 ± 0.0001 3.800 MB\n",
      "lstm_300_5 0.0020 ± 0.0002 13.780 MB\n",
      "lstm_600_2 0.0007 ± 0.0001 19.265 MB\n",
      "lstm_300_10 0.0035 ± 0.0003 27.559 MB\n",
      "lstm_100_30 0.0007 ± 0.0002 9.552 MB\n"
     ]
    }
   ],
   "source": [
    "\n",
    "for name, model in models_dict.items():\n",
    "    print(name, test_inference_time(model, loader), calculate_memory_usage(model))\n"
   ]
  },
  {
   "cell_type": "code",
   "execution_count": 6,
   "metadata": {},
   "outputs": [
    {
     "name": "stdout",
     "output_type": "stream",
     "text": [
      "---------------------------\n",
      "rnn_150_1\n",
      "Predicted correctly: 866\n",
      "Predicted incorrectly: 134\n",
      "\n",
      "Non-hate tweets predicted as hate: 0\n",
      "Most misclassified examples:\n",
      "\n",
      "Hate tweets predicted as non-hate: 134\n",
      "Most misclassified examples:\n",
      "\tProb: 0.090 \tText: 'o czym ty bredzisz jak nic nie wiesz o sprawie to się po prostu nie odzywaj i nie rób z siebie durnia'\n",
      "\tProb: 0.091 \tText: 'tym których nie było na meczu ze względu na koniec zgody mam kilka słów do przekazania wypierdalać do wrocławia albo gdańska'\n",
      "\tProb: 0.091 \tText: 'rt gówno byś z spod siebie zjadł na przekór tym co inaczej od ciebie myślą to i towarzysza lewandowskiego też bronisz'\n",
      "\tProb: 0.091 \tText: 'gówno byś z spod siebie zjadł na przekór tym co inaczej od ciebie myślą to i towarzysza lewandowskiego też bronisz dno'\n",
      "\tProb: 0.091 \tText: 'ty pajacu idź się doucz bo jesteś tępym gnojkiem i pojęcia nie masz co się działo za czasów olszewskiego'\n",
      "\tProb: 0.092 \tText: 'jak widzę byłego premiera marcinkiewicza to zawsze myślę qrwa jak ktoś taki mógł być premierem taki skończony błazen'\n",
      "\tProb: 0.092 \tText: 'dokładnie wie co mówi a ty pajacu poczytaj ustawę domsie dowiesz kto decyduje o wysokości zarobków w samorządach'\n",
      "\tProb: 0.092 \tText: 'niestety nie oglądałem ale jedna rzecz w tym poście jest nieprawdziwa żalek i wiedza to dwa wykluczające się byty'\n",
      "\tProb: 0.092 \tText: 'najwyższa pora zaistnieć w 21 wieku a was odizolować od zdrowej części społeczeństwa o nie pozwolić na chorą indoktrynację'\n",
      "\tProb: 0.092 \tText: 'rt pani się dobrze zastanowi co robicie też macie biura samochody domy dzieci wnuki itd tak tylko przy'\n",
      "None\n",
      "---------------------------\n",
      "rnn_150_2\n",
      "Predicted correctly: 895\n",
      "Predicted incorrectly: 105\n",
      "\n",
      "Non-hate tweets predicted as hate: 15\n",
      "Most misclassified examples:\n",
      "\tProb: 0.741 \tText: 'ten to już zupełnie odwiesił mózg na kołek chory mózg'\n",
      "\tProb: 0.704 \tText: 'rt polacy ratujmy polskę od zlodzieji po i lisa woljsdojcza'\n",
      "\tProb: 0.698 \tText: 'polacy ratujmy polskę od zlodzieji po i lisa woljsdojcza'\n",
      "\tProb: 0.635 \tText: 'rt tomaszowi szkoda że pmm nie schował zarobionej kasy w lisiej norze'\n",
      "\tProb: 0.619 \tText: 'tomaszowi szkoda że pmm nie schował zarobionej kasy w lisiej norze'\n",
      "\tProb: 0.587 \tText: 'opieka nad chorymi psychicznie i na raka świadczy o bogactwie i wrażliwości państwa przyglupy'\n",
      "\tProb: 0.576 \tText: 'kodowa zaraza naród nasz dzieli mrozny deszcz grozy po karku przechodzi dość dyktatu pejsatej brukseli'\n",
      "\tProb: 0.572 \tText: 'rt trzeba być patriotą swojego miasta swojego regionu swojej ziemi prezes j w'\n",
      "\tProb: 0.569 \tText: 'jestem ukrainskim żydem z polskim obywatelstwem tnij może jedna ci starczy'\n",
      "\tProb: 0.561 \tText: 'trzeba być patriotą swojego miasta swojego regionu swojej ziemi prezes j w'\n",
      "\n",
      "Hate tweets predicted as non-hate: 90\n",
      "Most misclassified examples:\n",
      "\tProb: 0.011 \tText: 'kwalifikacje pogodynki umożliwiają w pisie wszystko'\n",
      "\tProb: 0.011 \tText: 'tym których nie było na meczu ze względu na koniec zgody mam kilka słów do przekazania wypierdalać do wrocławia albo gdańska'\n",
      "\tProb: 0.012 \tText: 'kama słuchej no gdzie masz biuro chciałbym coś machnąć sprajem'\n",
      "\tProb: 0.014 \tText: 'niestety nie oglądałem ale jedna rzecz w tym poście jest nieprawdziwa żalek i wiedza to dwa wykluczające się byty'\n",
      "\tProb: 0.014 \tText: 'rt kama słuchej no gdzie masz biuro chciałbym coś machnąć sprajem'\n",
      "\tProb: 0.018 \tText: 'w powietrzu sa środki chemiczne uważaj wygladasz na podatnego'\n",
      "\tProb: 0.018 \tText: 'jak spraw zgb dalej nie masz wjazdu jak proces królowa zalaci'\n",
      "\tProb: 0.018 \tText: 'hehe do gazu hehe marzec 2018'\n",
      "\tProb: 0.020 \tText: 'z tego co wiem to wyłowiono jego ciało z jakieś wody'\n",
      "\tProb: 0.022 \tText: 'te szambo ktore mysli ze jest wallenrodem spuszczam jednym ruchem i polecam'\n",
      "None\n",
      "---------------------------\n",
      "rnn_150_3\n",
      "Predicted correctly: 866\n",
      "Predicted incorrectly: 134\n",
      "\n",
      "Non-hate tweets predicted as hate: 0\n",
      "Most misclassified examples:\n",
      "\n",
      "Hate tweets predicted as non-hate: 134\n",
      "Most misclassified examples:\n",
      "\tProb: 0.108 \tText: 'o czym ty bredzisz jak nic nie wiesz o sprawie to się po prostu nie odzywaj i nie rób z siebie durnia'\n",
      "\tProb: 0.108 \tText: 'rt gówno byś z spod siebie zjadł na przekór tym co inaczej od ciebie myślą to i towarzysza lewandowskiego też bronisz'\n",
      "\tProb: 0.108 \tText: 'gówno byś z spod siebie zjadł na przekór tym co inaczej od ciebie myślą to i towarzysza lewandowskiego też bronisz dno'\n",
      "\tProb: 0.108 \tText: 'tym których nie było na meczu ze względu na koniec zgody mam kilka słów do przekazania wypierdalać do wrocławia albo gdańska'\n",
      "\tProb: 0.108 \tText: 'ty pajacu idź się doucz bo jesteś tępym gnojkiem i pojęcia nie masz co się działo za czasów olszewskiego'\n",
      "\tProb: 0.108 \tText: 'najwyższa pora zaistnieć w 21 wieku a was odizolować od zdrowej części społeczeństwa o nie pozwolić na chorą indoktrynację'\n",
      "\tProb: 0.108 \tText: 'jak widzę byłego premiera marcinkiewicza to zawsze myślę qrwa jak ktoś taki mógł być premierem taki skończony błazen'\n",
      "\tProb: 0.109 \tText: 'rt pani się dobrze zastanowi co robicie też macie biura samochody domy dzieci wnuki itd tak tylko przy'\n",
      "\tProb: 0.109 \tText: 'niestety nie oglądałem ale jedna rzecz w tym poście jest nieprawdziwa żalek i wiedza to dwa wykluczające się byty'\n",
      "\tProb: 0.109 \tText: 'dokładnie wie co mówi a ty pajacu poczytaj ustawę domsie dowiesz kto decyduje o wysokości zarobków w samorządach'\n",
      "None\n",
      "---------------------------\n",
      "rnn_600_2\n",
      "Predicted correctly: 889\n",
      "Predicted incorrectly: 111\n",
      "\n",
      "Non-hate tweets predicted as hate: 18\n",
      "Most misclassified examples:\n",
      "\tProb: 0.683 \tText: 'kodowa zaraza naród nasz dzieli mrozny deszcz grozy po karku przechodzi dość dyktatu pejsatej brukseli'\n",
      "\tProb: 0.673 \tText: 'rt “ brzydka z makijażem brzydka bez makijażu brzydka rano brzydka wieczorem brzydka'\n",
      "\tProb: 0.652 \tText: '“ brzydka z makijażem brzydka bez makijażu brzydka rano brzydka wieczorem brzydka'\n",
      "\tProb: 0.649 \tText: 'największym problemem jest zły stosunek do samego siebie podejżliwość kłutliwość nienawiść kompleksy brak pewności siebie'\n",
      "\tProb: 0.600 \tText: 'rt trzeba być patriotą swojego miasta swojego regionu swojej ziemi prezes j w'\n",
      "\tProb: 0.587 \tText: 'rt polacy ratujmy polskę od zlodzieji po i lisa woljsdojcza'\n",
      "\tProb: 0.579 \tText: 'trzeba być patriotą swojego miasta swojego regionu swojej ziemi prezes j w'\n",
      "\tProb: 0.568 \tText: 'polacy ratujmy polskę od zlodzieji po i lisa woljsdojcza'\n",
      "\tProb: 0.562 \tText: 'rt tomaszowi szkoda że pmm nie schował zarobionej kasy w lisiej norze'\n",
      "\tProb: 0.557 \tText: 'halicki gawłowski nie może się bronić bo siedzi a po wciąż za bałagan w wwie obciąża m i nieżyjącego l kaczyńskiego'\n",
      "\n",
      "Hate tweets predicted as non-hate: 93\n",
      "Most misclassified examples:\n",
      "\tProb: 0.012 \tText: 'tym których nie było na meczu ze względu na koniec zgody mam kilka słów do przekazania wypierdalać do wrocławia albo gdańska'\n",
      "\tProb: 0.017 \tText: 'hehe do gazu hehe marzec 2018'\n",
      "\tProb: 0.020 \tText: 'kwalifikacje pogodynki umożliwiają w pisie wszystko'\n",
      "\tProb: 0.021 \tText: 'z tego co wiem to wyłowiono jego ciało z jakieś wody'\n",
      "\tProb: 0.021 \tText: 'niestety nie oglądałem ale jedna rzecz w tym poście jest nieprawdziwa żalek i wiedza to dwa wykluczające się byty'\n",
      "\tProb: 0.026 \tText: 'kama słuchej no gdzie masz biuro chciałbym coś machnąć sprajem'\n",
      "\tProb: 0.027 \tText: 'nie kłóć się jak nie chcesz mieć później problemów'\n",
      "\tProb: 0.029 \tText: 'rt kama słuchej no gdzie masz biuro chciałbym coś machnąć sprajem'\n",
      "\tProb: 0.036 \tText: 'jak spraw zgb dalej nie masz wjazdu jak proces królowa zalaci'\n",
      "\tProb: 0.038 \tText: 'za szczyt chyba za szczytowanie'\n",
      "None\n",
      "---------------------------\n",
      "rnn_300_10\n",
      "Predicted correctly: 866\n",
      "Predicted incorrectly: 134\n",
      "\n",
      "Non-hate tweets predicted as hate: 0\n",
      "Most misclassified examples:\n",
      "\n",
      "Hate tweets predicted as non-hate: 134\n",
      "Most misclassified examples:\n",
      "\tProb: 0.100 \tText: 'ty pajacu idź się doucz bo jesteś tępym gnojkiem i pojęcia nie masz co się działo za czasów olszewskiego'\n",
      "\tProb: 0.100 \tText: 'tym których nie było na meczu ze względu na koniec zgody mam kilka słów do przekazania wypierdalać do wrocławia albo gdańska'\n",
      "\tProb: 0.100 \tText: 'gówno byś z spod siebie zjadł na przekór tym co inaczej od ciebie myślą to i towarzysza lewandowskiego też bronisz dno'\n",
      "\tProb: 0.100 \tText: 'o czym ty bredzisz jak nic nie wiesz o sprawie to się po prostu nie odzywaj i nie rób z siebie durnia'\n",
      "\tProb: 0.100 \tText: 'rt gówno byś z spod siebie zjadł na przekór tym co inaczej od ciebie myślą to i towarzysza lewandowskiego też bronisz'\n",
      "\tProb: 0.100 \tText: 'najwyższa pora zaistnieć w 21 wieku a was odizolować od zdrowej części społeczeństwa o nie pozwolić na chorą indoktrynację'\n",
      "\tProb: 0.100 \tText: 'niestety nie oglądałem ale jedna rzecz w tym poście jest nieprawdziwa żalek i wiedza to dwa wykluczające się byty'\n",
      "\tProb: 0.100 \tText: 'moja przyjaciółka ma dzisisj poprawkę z pozytywizmu u najgorszego idioty na uczelni mam nadzieje źe zda'\n",
      "\tProb: 0.100 \tText: 'jak widzę byłego premiera marcinkiewicza to zawsze myślę qrwa jak ktoś taki mógł być premierem taki skończony błazen'\n",
      "\tProb: 0.100 \tText: 'rt pani się dobrze zastanowi co robicie też macie biura samochody domy dzieci wnuki itd tak tylko przy'\n",
      "None\n",
      "---------------------------\n",
      "lstm_150_1\n",
      "Predicted correctly: 897\n",
      "Predicted incorrectly: 103\n",
      "\n",
      "Non-hate tweets predicted as hate: 15\n",
      "Most misclassified examples:\n",
      "\tProb: 0.644 \tText: 'ten to już zupełnie odwiesił mózg na kołek chory mózg'\n",
      "\tProb: 0.599 \tText: 'polacy ratujmy polskę od zlodzieji po i lisa woljsdojcza'\n",
      "\tProb: 0.597 \tText: 'rt polacy ratujmy polskę od zlodzieji po i lisa woljsdojcza'\n",
      "\tProb: 0.591 \tText: '“ brzydka z makijażem brzydka bez makijażu brzydka rano brzydka wieczorem brzydka'\n",
      "\tProb: 0.591 \tText: 'rt “ brzydka z makijażem brzydka bez makijażu brzydka rano brzydka wieczorem brzydka'\n",
      "\tProb: 0.553 \tText: 'opieka nad chorymi psychicznie i na raka świadczy o bogactwie i wrażliwości państwa przyglupy'\n",
      "\tProb: 0.552 \tText: 'rt trzeba być patriotą swojego miasta swojego regionu swojej ziemi prezes j w'\n",
      "\tProb: 0.551 \tText: 'jestem ukrainskim żydem z polskim obywatelstwem tnij może jedna ci starczy'\n",
      "\tProb: 0.547 \tText: 'trzeba być patriotą swojego miasta swojego regionu swojej ziemi prezes j w'\n",
      "\tProb: 0.545 \tText: 'droga pkamilko leczyć się leczyć póki czas'\n",
      "\n",
      "Hate tweets predicted as non-hate: 88\n",
      "Most misclassified examples:\n",
      "\tProb: 0.007 \tText: 'kama słuchej no gdzie masz biuro chciałbym coś machnąć sprajem'\n",
      "\tProb: 0.007 \tText: 'hehe do gazu hehe marzec 2018'\n",
      "\tProb: 0.007 \tText: 'kwalifikacje pogodynki umożliwiają w pisie wszystko'\n",
      "\tProb: 0.007 \tText: 'rt kama słuchej no gdzie masz biuro chciałbym coś machnąć sprajem'\n",
      "\tProb: 0.007 \tText: 'tym których nie było na meczu ze względu na koniec zgody mam kilka słów do przekazania wypierdalać do wrocławia albo gdańska'\n",
      "\tProb: 0.011 \tText: 'niestety nie oglądałem ale jedna rzecz w tym poście jest nieprawdziwa żalek i wiedza to dwa wykluczające się byty'\n",
      "\tProb: 0.011 \tText: 'z tego co wiem to wyłowiono jego ciało z jakieś wody'\n",
      "\tProb: 0.011 \tText: 'nie kłóć się jak nie chcesz mieć później problemów'\n",
      "\tProb: 0.013 \tText: 'jak spraw zgb dalej nie masz wjazdu jak proces królowa zalaci'\n",
      "\tProb: 0.020 \tText: 'za szczyt chyba za szczytowanie'\n",
      "None\n",
      "---------------------------\n",
      "lstm_150_5\n",
      "Predicted correctly: 898\n",
      "Predicted incorrectly: 102\n",
      "\n",
      "Non-hate tweets predicted as hate: 19\n",
      "Most misclassified examples:\n",
      "\tProb: 0.610 \tText: 'polacy ratujmy polskę od zlodzieji po i lisa woljsdojcza'\n",
      "\tProb: 0.608 \tText: 'rt polacy ratujmy polskę od zlodzieji po i lisa woljsdojcza'\n",
      "\tProb: 0.604 \tText: 'ten to już zupełnie odwiesił mózg na kołek chory mózg'\n",
      "\tProb: 0.594 \tText: 'opieka nad chorymi psychicznie i na raka świadczy o bogactwie i wrażliwości państwa przyglupy'\n",
      "\tProb: 0.589 \tText: 'z koszulki na dupie też jesteś dumny'\n",
      "\tProb: 0.580 \tText: 'a tu w cukierniczce pieprz wiec popieprzyles'\n",
      "\tProb: 0.575 \tText: 'jestem ukrainskim żydem z polskim obywatelstwem tnij może jedna ci starczy'\n",
      "\tProb: 0.567 \tText: 'tomaszowi szkoda że pmm nie schował zarobionej kasy w lisiej norze'\n",
      "\tProb: 0.563 \tText: 'droga pkamilko leczyć się leczyć póki czas'\n",
      "\tProb: 0.559 \tText: 'rt tomaszowi szkoda że pmm nie schował zarobionej kasy w lisiej norze'\n",
      "\n",
      "Hate tweets predicted as non-hate: 83\n",
      "Most misclassified examples:\n",
      "\tProb: 0.005 \tText: 'tym których nie było na meczu ze względu na koniec zgody mam kilka słów do przekazania wypierdalać do wrocławia albo gdańska'\n",
      "\tProb: 0.013 \tText: 'kwalifikacje pogodynki umożliwiają w pisie wszystko'\n",
      "\tProb: 0.017 \tText: 'kama słuchej no gdzie masz biuro chciałbym coś machnąć sprajem'\n",
      "\tProb: 0.019 \tText: 'niestety nie oglądałem ale jedna rzecz w tym poście jest nieprawdziwa żalek i wiedza to dwa wykluczające się byty'\n",
      "\tProb: 0.019 \tText: 'hehe do gazu hehe marzec 2018'\n",
      "\tProb: 0.020 \tText: 'rt kama słuchej no gdzie masz biuro chciałbym coś machnąć sprajem'\n",
      "\tProb: 0.021 \tText: 'z tego co wiem to wyłowiono jego ciało z jakieś wody'\n",
      "\tProb: 0.028 \tText: 'nie kłóć się jak nie chcesz mieć później problemów'\n",
      "\tProb: 0.046 \tText: 'jak spraw zgb dalej nie masz wjazdu jak proces królowa zalaci'\n",
      "\tProb: 0.047 \tText: 'w powietrzu sa środki chemiczne uważaj wygladasz na podatnego'\n",
      "None\n",
      "---------------------------\n",
      "lstm_600_2\n",
      "Predicted correctly: 894\n",
      "Predicted incorrectly: 106\n",
      "\n",
      "Non-hate tweets predicted as hate: 13\n",
      "Most misclassified examples:\n",
      "\tProb: 0.670 \tText: '“ brzydka z makijażem brzydka bez makijażu brzydka rano brzydka wieczorem brzydka'\n",
      "\tProb: 0.666 \tText: 'rt “ brzydka z makijażem brzydka bez makijażu brzydka rano brzydka wieczorem brzydka'\n",
      "\tProb: 0.650 \tText: 'ten to już zupełnie odwiesił mózg na kołek chory mózg'\n",
      "\tProb: 0.612 \tText: 'polacy ratujmy polskę od zlodzieji po i lisa woljsdojcza'\n",
      "\tProb: 0.609 \tText: 'rt polacy ratujmy polskę od zlodzieji po i lisa woljsdojcza'\n",
      "\tProb: 0.562 \tText: 'jestem ukrainskim żydem z polskim obywatelstwem tnij może jedna ci starczy'\n",
      "\tProb: 0.542 \tText: 'kodowa zaraza naród nasz dzieli mrozny deszcz grozy po karku przechodzi dość dyktatu pejsatej brukseli'\n",
      "\tProb: 0.530 \tText: 'rt tomaszowi szkoda że pmm nie schował zarobionej kasy w lisiej norze'\n",
      "\tProb: 0.527 \tText: 'celny snajperski strzał w lewacką chołotę'\n",
      "\tProb: 0.526 \tText: 'tomaszowi szkoda że pmm nie schował zarobionej kasy w lisiej norze'\n",
      "\n",
      "Hate tweets predicted as non-hate: 93\n",
      "Most misclassified examples:\n",
      "\tProb: 0.004 \tText: 'tym których nie było na meczu ze względu na koniec zgody mam kilka słów do przekazania wypierdalać do wrocławia albo gdańska'\n",
      "\tProb: 0.012 \tText: 'niestety nie oglądałem ale jedna rzecz w tym poście jest nieprawdziwa żalek i wiedza to dwa wykluczające się byty'\n",
      "\tProb: 0.012 \tText: 'hehe do gazu hehe marzec 2018'\n",
      "\tProb: 0.013 \tText: 'kwalifikacje pogodynki umożliwiają w pisie wszystko'\n",
      "\tProb: 0.014 \tText: 'kama słuchej no gdzie masz biuro chciałbym coś machnąć sprajem'\n",
      "\tProb: 0.014 \tText: 'z tego co wiem to wyłowiono jego ciało z jakieś wody'\n",
      "\tProb: 0.019 \tText: 'rt kama słuchej no gdzie masz biuro chciałbym coś machnąć sprajem'\n",
      "\tProb: 0.025 \tText: 'nie kłóć się jak nie chcesz mieć później problemów'\n",
      "\tProb: 0.034 \tText: 'jak spraw zgb dalej nie masz wjazdu jak proces królowa zalaci'\n",
      "\tProb: 0.071 \tText: 'o czym będzie łgał jutro'\n",
      "None\n",
      "---------------------------\n",
      "lstm_300_10\n",
      "Predicted correctly: 896\n",
      "Predicted incorrectly: 104\n",
      "\n",
      "Non-hate tweets predicted as hate: 7\n",
      "Most misclassified examples:\n",
      "\tProb: 0.602 \tText: 'polacy ratujmy polskę od zlodzieji po i lisa woljsdojcza'\n",
      "\tProb: 0.594 \tText: 'rt polacy ratujmy polskę od zlodzieji po i lisa woljsdojcza'\n",
      "\tProb: 0.584 \tText: '“ brzydka z makijażem brzydka bez makijażu brzydka rano brzydka wieczorem brzydka'\n",
      "\tProb: 0.572 \tText: 'rt “ brzydka z makijażem brzydka bez makijażu brzydka rano brzydka wieczorem brzydka'\n",
      "\tProb: 0.566 \tText: 'ten to już zupełnie odwiesił mózg na kołek chory mózg'\n",
      "\tProb: 0.522 \tText: 'celny snajperski strzał w lewacką chołotę'\n",
      "\tProb: 0.522 \tText: 'jestem ukrainskim żydem z polskim obywatelstwem tnij może jedna ci starczy'\n",
      "\n",
      "Hate tweets predicted as non-hate: 97\n",
      "Most misclassified examples:\n",
      "\tProb: 0.004 \tText: 'tym których nie było na meczu ze względu na koniec zgody mam kilka słów do przekazania wypierdalać do wrocławia albo gdańska'\n",
      "\tProb: 0.007 \tText: 'hehe do gazu hehe marzec 2018'\n",
      "\tProb: 0.013 \tText: 'kwalifikacje pogodynki umożliwiają w pisie wszystko'\n",
      "\tProb: 0.015 \tText: 'z tego co wiem to wyłowiono jego ciało z jakieś wody'\n",
      "\tProb: 0.026 \tText: 'niestety nie oglądałem ale jedna rzecz w tym poście jest nieprawdziwa żalek i wiedza to dwa wykluczające się byty'\n",
      "\tProb: 0.029 \tText: 'kama słuchej no gdzie masz biuro chciałbym coś machnąć sprajem'\n",
      "\tProb: 0.034 \tText: 'nie kłóć się jak nie chcesz mieć później problemów'\n",
      "\tProb: 0.044 \tText: 'rt kama słuchej no gdzie masz biuro chciałbym coś machnąć sprajem'\n",
      "\tProb: 0.066 \tText: 'w powietrzu sa środki chemiczne uważaj wygladasz na podatnego'\n",
      "\tProb: 0.078 \tText: 'o czym będzie łgał jutro'\n",
      "None\n",
      "---------------------------\n",
      "lstm_100_30\n",
      "Predicted correctly: 866\n",
      "Predicted incorrectly: 134\n",
      "\n",
      "Non-hate tweets predicted as hate: 0\n",
      "Most misclassified examples:\n",
      "\n",
      "Hate tweets predicted as non-hate: 134\n",
      "Most misclassified examples:\n",
      "\tProb: 0.096 \tText: 'nie osłabiaj mnie sieroto po komunie'\n",
      "\tProb: 0.096 \tText: 'jezdzisz na wózku tramwaj uciał ci nogi'\n",
      "\tProb: 0.096 \tText: 'chuje a jak tam uchodźcy idą'\n",
      "\tProb: 0.096 \tText: 'kop w dupę i do watykanu się mądrzyć za swoją kasę'\n",
      "\tProb: 0.096 \tText: 'rt kop w dupę i do watykanu się mądrzyć za swoją kasę'\n",
      "\tProb: 0.096 \tText: 'a może coś o pmm który sprowokowany zachował się jak typowy pisowski nieuk i idiota'\n",
      "\tProb: 0.096 \tText: 'najwyższa pora zaistnieć w 21 wieku a was odizolować od zdrowej części społeczeństwa o nie pozwolić na chorą indoktrynację'\n",
      "\tProb: 0.096 \tText: 'i bardzo dobrze sprzedaliście polskę za pięć stówek pisowi to macie właśnie to na co zasługujecie'\n",
      "\tProb: 0.096 \tText: 'i znowu łżesz jak bura suka ue mówi całkowicie co innego niż wy do swoich moherów'\n",
      "\tProb: 0.096 \tText: 'przecież cale poparcie rdzeń to zamach co jest do chuja z wami tolerować takie zepsute mleko'\n",
      "None\n"
     ]
    }
   ],
   "source": [
    "loader = DataLoader(\n",
    "    dataset,\n",
    "    batch_size=128,\n",
    "    pin_memory=True,\n",
    "    drop_last=False,\n",
    ")\n",
    "\n",
    "\n",
    "for name, model in models_dict.items():\n",
    "    if isinstance(model, RNNModel):\n",
    "        model = model.model['rnn']\n",
    "        model = RNNModel.load_from_checkpoint(f'checkpoints/{name}_1.ckpt', feature_size=model.input_size, hidden_size=model.hidden_size, num_layers=model.num_layers)\n",
    "        model = model.cuda()\n",
    "    if isinstance(model, LSTMModel):\n",
    "        model = model.model['lstm']\n",
    "        model = LSTMModel.load_from_checkpoint(f'checkpoints/{name}_corp_1.ckpt', feature_size=model.input_size, hidden_size=model.hidden_size, num_layers=model.num_layers)\n",
    "        model = model.cuda()\n",
    "    print('---------------------------')\n",
    "    print(name)\n",
    "    print(check_errors(model, PROBLEM_TEST, loader, use_sigmoid=False))"
   ]
  }
 ],
 "metadata": {
  "kernelspec": {
   "display_name": "Python 3 (ipykernel)",
   "language": "python",
   "name": "python3"
  },
  "language_info": {
   "codemirror_mode": {
    "name": "ipython",
    "version": 3
   },
   "file_extension": ".py",
   "mimetype": "text/x-python",
   "name": "python",
   "nbconvert_exporter": "python",
   "pygments_lexer": "ipython3",
   "version": "3.10.8"
  },
  "vscode": {
   "interpreter": {
    "hash": "685727852e42551632e0fc1e43e361d886b7ddaddaf1474b2acdf6903161a758"
   }
  }
 },
 "nbformat": 4,
 "nbformat_minor": 2
}
