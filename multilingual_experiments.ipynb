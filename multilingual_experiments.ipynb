{
 "cells": [
  {
   "cell_type": "code",
   "execution_count": 1,
   "metadata": {},
   "outputs": [],
   "source": [
    "import fasttext\n",
    "import torch\n",
    "from torch.utils.data import DataLoader\n",
    "from sentence_transformers import SentenceTransformer\n",
    "\n",
    "from config import PROBLEM_TEST, CHECKPOINTS_DIR, ENGLISH_TRAIN, ENGLISH_TEST\n",
    "from data import TextDataset, HatefulTweets\n",
    "from functools import partial\n",
    "from nn import train_model, BinaryMLP\n",
    "\n",
    "from experiment import (\n",
    "    run_repeated_labse_single,\n",
    "    run_repeated_labse_multi,\n",
    "    test_inference_time,\n",
    "    calculate_memory_usage,\n",
    ")"
   ]
  },
  {
   "cell_type": "code",
   "execution_count": 2,
   "metadata": {},
   "outputs": [
    {
     "name": "stderr",
     "output_type": "stream",
     "text": [
      "Global seed set to 1\n",
      "Global seed set to 2\n",
      "Global seed set to 3\n",
      "Global seed set to 4\n",
      "Global seed set to 5\n",
      "Global seed set to 6\n",
      "Global seed set to 7\n",
      "Global seed set to 8\n",
      "Global seed set to 9\n",
      "Global seed set to 10\n"
     ]
    },
    {
     "data": {
      "text/plain": [
       "{'test/loss': '0.3486 ± 0.0164',\n",
       " 'test/f1': '0.4444 ± 0.0283',\n",
       " 'test/acc': '0.8822 ± 0.0066',\n",
       " 'test/precision': '0.6048 ± 0.0451',\n",
       " 'test/recall': '0.3515 ± 0.0218',\n",
       " 'train/loss': '0.1310 ± 0.0354',\n",
       " 'train/f1': '0.9113 ± 0.0285',\n",
       " 'train/acc': '0.9845 ± 0.0053',\n",
       " 'train/precision': '0.8894 ± 0.0444',\n",
       " 'train/recall': '0.9350 ± 0.0143',\n",
       " 'train_time': '17.9384 ± 1.8442'}"
      ]
     },
     "execution_count": 2,
     "metadata": {},
     "output_type": "execute_result"
    }
   ],
   "source": [
    "run_repeated_labse_single(name=\"labse_single_polish\")"
   ]
  },
  {
   "cell_type": "code",
   "execution_count": 3,
   "metadata": {},
   "outputs": [
    {
     "name": "stderr",
     "output_type": "stream",
     "text": [
      "Global seed set to 1\n",
      "Global seed set to 2\n",
      "Global seed set to 3\n",
      "Global seed set to 4\n",
      "Global seed set to 5\n",
      "Global seed set to 6\n",
      "Global seed set to 7\n",
      "Global seed set to 8\n",
      "Global seed set to 9\n",
      "Global seed set to 10\n"
     ]
    },
    {
     "data": {
      "text/plain": [
       "{'test/loss': '0.6740 ± 0.0334',\n",
       " 'test/f1': '0.6120 ± 0.0128',\n",
       " 'test/acc': '0.5952 ± 0.0358',\n",
       " 'test/precision': '0.5193 ± 0.0349',\n",
       " 'test/recall': '0.7614 ± 0.1021',\n",
       " 'train/loss': '0.6136 ± 0.0354',\n",
       " 'train/f1': '0.6276 ± 0.0347',\n",
       " 'train/acc': '0.6580 ± 0.0318',\n",
       " 'train/precision': '0.5812 ± 0.0333',\n",
       " 'train/recall': '0.6838 ± 0.0502',\n",
       " 'train_time': '8.4854 ± 0.4961'}"
      ]
     },
     "execution_count": 3,
     "metadata": {},
     "output_type": "execute_result"
    }
   ],
   "source": [
    "run_repeated_labse_single(\n",
    "    name=\"labse_single_english\",\n",
    "    train_path=ENGLISH_TRAIN,\n",
    "    test_path=ENGLISH_TEST,\n",
    ")"
   ]
  },
  {
   "cell_type": "code",
   "execution_count": 4,
   "metadata": {},
   "outputs": [
    {
     "name": "stderr",
     "output_type": "stream",
     "text": [
      "Global seed set to 1\n",
      "Global seed set to 2\n",
      "Global seed set to 3\n",
      "Global seed set to 4\n",
      "Global seed set to 5\n",
      "Global seed set to 6\n",
      "Global seed set to 7\n",
      "Global seed set to 8\n",
      "Global seed set to 9\n",
      "Global seed set to 10\n"
     ]
    },
    {
     "data": {
      "text/plain": [
       "{'english_test/loss': '0.6740 ± 0.0334',\n",
       " 'english_test/f1': '0.6120 ± 0.0128',\n",
       " 'english_test/acc': '0.5952 ± 0.0358',\n",
       " 'english_test/precision': '0.5193 ± 0.0349',\n",
       " 'english_test/recall': '0.7614 ± 0.1021',\n",
       " 'english_train/loss': '0.6136 ± 0.0354',\n",
       " 'english_train/f1': '0.6276 ± 0.0347',\n",
       " 'english_train/acc': '0.6580 ± 0.0318',\n",
       " 'english_train/precision': '0.5812 ± 0.0333',\n",
       " 'english_train/recall': '0.6838 ± 0.0502',\n",
       " 'polish_pre_training_test/loss': '0.5710 ± 0.0540',\n",
       " 'polish_pre_training_test/f1': '0.2984 ± 0.0284',\n",
       " 'polish_pre_training_test/acc': '0.7462 ± 0.0712',\n",
       " 'polish_pre_training_test/precision': '0.2598 ± 0.0468',\n",
       " 'polish_pre_training_test/recall': '0.4157 ± 0.1552',\n",
       " 'polish_test/loss': '0.3433 ± 0.0142',\n",
       " 'polish_test/f1': '0.4422 ± 0.0241',\n",
       " 'polish_test/acc': '0.8831 ± 0.0043',\n",
       " 'polish_test/precision': '0.6143 ± 0.0326',\n",
       " 'polish_test/recall': '0.3463 ± 0.0264',\n",
       " 'polish_train/loss': '0.1188 ± 0.0363',\n",
       " 'polish_train/f1': '0.9204 ± 0.0277',\n",
       " 'polish_train/acc': '0.9862 ± 0.0050',\n",
       " 'polish_train/precision': '0.9101 ± 0.0423',\n",
       " 'polish_train/recall': '0.9315 ± 0.0154'}"
      ]
     },
     "execution_count": 4,
     "metadata": {},
     "output_type": "execute_result"
    }
   ],
   "source": [
    "run_repeated_labse_multi(name=\"labse_multi\")"
   ]
  },
  {
   "cell_type": "code",
   "execution_count": 5,
   "metadata": {},
   "outputs": [],
   "source": [
    "embeddings_model = SentenceTransformer(\"sentence-transformers/LaBSE\")\n",
    "get_embeddings = lambda x: embeddings_model.encode(\n",
    "    x,\n",
    "    convert_to_numpy=False,\n",
    "    convert_to_tensor=True,\n",
    "    batch_size=128,\n",
    ").cpu()\n",
    "\n",
    "dataset = TextDataset(PROBLEM_TEST, get_embeddings)\n",
    "loader = DataLoader(\n",
    "    dataset,\n",
    "    batch_size=128,\n",
    "    pin_memory=True,\n",
    "    shuffle=False,\n",
    "    num_workers=0,\n",
    "    drop_last=True,\n",
    ")\n",
    "\n",
    "checkpoint_file = CHECKPOINTS_DIR / \"labse_single_polish_1.ckpt\"\n",
    "model = BinaryMLP.load_from_checkpoint(\n",
    "    checkpoint_file,\n",
    "    emb_dim=768,\n",
    "    hidden_dims=[256, 128],\n",
    "    learning_rate=1e-4,\n",
    ").cuda()"
   ]
  },
  {
   "cell_type": "code",
   "execution_count": 6,
   "metadata": {},
   "outputs": [
    {
     "data": {
      "text/plain": [
       "'0.0002 ± 0.0001'"
      ]
     },
     "execution_count": 6,
     "metadata": {},
     "output_type": "execute_result"
    }
   ],
   "source": [
    "test_inference_time(model, loader)"
   ]
  },
  {
   "cell_type": "code",
   "execution_count": 7,
   "metadata": {},
   "outputs": [
    {
     "data": {
      "text/plain": [
       "'0.883 MB'"
      ]
     },
     "execution_count": 7,
     "metadata": {},
     "output_type": "execute_result"
    }
   ],
   "source": [
    "calculate_memory_usage(model)"
   ]
  }
 ],
 "metadata": {
  "kernelspec": {
   "display_name": "Python 3",
   "language": "python",
   "name": "python3"
  },
  "language_info": {
   "codemirror_mode": {
    "name": "ipython",
    "version": 3
   },
   "file_extension": ".py",
   "mimetype": "text/x-python",
   "name": "python",
   "nbconvert_exporter": "python",
   "pygments_lexer": "ipython3",
   "version": "3.10.9"
  },
  "orig_nbformat": 4,
  "vscode": {
   "interpreter": {
    "hash": "e7370f93d1d0cde622a1f8e1c04877d8463912d04d973331ad4851f04de6915a"
   }
  }
 },
 "nbformat": 4,
 "nbformat_minor": 2
}
